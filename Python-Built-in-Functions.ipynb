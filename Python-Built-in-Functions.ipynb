{
 "cells": [
  {
   "cell_type": "code",
   "execution_count": 1,
   "id": "0550f7cc",
   "metadata": {},
   "outputs": [],
   "source": [
    "#Python built-in function\n",
    "\n",
    "# Taken from https://www.w3schools.com/python/python_ref_functions.asp and built by Partha Pratim Ray\n",
    "\n",
    "\n",
    "# Function\tDescription\n",
    "\n",
    "# abs()\tReturns the absolute value of a number\n",
    "# all()\tReturns True if all items in an iterable object are true\n",
    "# any()\tReturns True if any item in an iterable object is true\n",
    "# ascii()\tReturns a readable version of an object. Replaces none-ascii characters with escape character\n",
    "# bin()\tReturns the binary version of a number\n",
    "# bool()\tReturns the boolean value of the specified object\n",
    "# bytearray()\tReturns an array of bytes\n",
    "# bytes()\tReturns a bytes object\n",
    "# callable()\tReturns True if the specified object is callable, otherwise False\n",
    "# chr()\tReturns a character from the specified Unicode code.\n",
    "# classmethod()\tConverts a method into a class method\n",
    "# compile()\tReturns the specified source as an object, ready to be executed\n",
    "# complex()\tReturns a complex number\n",
    "# delattr()\tDeletes the specified attribute (property or method) from the specified object\n",
    "# dict()\tReturns a dictionary (Array)\n",
    "# dir()\tReturns a list of the specified object's properties and methods\n",
    "# divmod()\tReturns the quotient and the remainder when argument1 is divided by argument2\n",
    "# enumerate()\tTakes a collection (e.g. a tuple) and returns it as an enumerate object\n",
    "# eval()\tEvaluates and executes an expression\n",
    "# exec()\tExecutes the specified code (or object)\n",
    "# filter()\tUse a filter function to exclude items in an iterable object\n",
    "# float()\tReturns a floating point number\n",
    "# format()\tFormats a specified value\n",
    "# frozenset()\tReturns a frozenset object\n",
    "# getattr()\tReturns the value of the specified attribute (property or method)\n",
    "# globals()\tReturns the current global symbol table as a dictionary\n",
    "# hasattr()\tReturns True if the specified object has the specified attribute (property/method)\n",
    "# hash()\tReturns the hash value of a specified object\n",
    "# help()\tExecutes the built-in help system\n",
    "# hex()\tConverts a number into a hexadecimal value\n",
    "# id()\tReturns the id of an object\n",
    "# input()\tAllowing user input\n",
    "# int()\tReturns an integer number\n",
    "# isinstance()\tReturns True if a specified object is an instance of a specified object\n",
    "# issubclass()\tReturns True if a specified class is a subclass of a specified object\n",
    "# iter()\tReturns an iterator object\n",
    "# len()\tReturns the length of an object\n",
    "# list()\tReturns a list\n",
    "# locals()\tReturns an updated dictionary of the current local symbol table\n",
    "# map()\tReturns the specified iterator with the specified function applied to each item\n",
    "# max()\tReturns the largest item in an iterable\n",
    "# memoryview()\tReturns a memory view object\n",
    "# min()\tReturns the smallest item in an iterable\n",
    "# next()\tReturns the next item in an iterable\n",
    "# object()\tReturns a new object\n",
    "# oct()\tConverts a number into an octal\n",
    "# open()\tOpens a file and returns a file object\n",
    "# ord()\tConvert an integer representing the Unicode of the specified character\n",
    "# pow()\tReturns the value of x to the power of y\n",
    "# print()\tPrints to the standard output device\n",
    "# property()\tGets, sets, deletes a property\n",
    "# range()\tReturns a sequence of numbers, starting from 0 and increments by 1 (by default)\n",
    "# repr()\tReturns a readable version of an object\n",
    "# reversed()\tReturns a reversed iterator\n",
    "# round()\tRounds a numbers\n",
    "# set()\tReturns a new set object\n",
    "# setattr()\tSets an attribute (property/method) of an object\n",
    "# slice()\tReturns a slice object\n",
    "# sorted()\tReturns a sorted list\n",
    "# staticmethod()\tConverts a method into a static method\n",
    "# str()\tReturns a string object\n",
    "# sum()\tSums the items of an iterator\n",
    "# super()\tReturns an object that represents the parent class\n",
    "# tuple()\tReturns a tuple\n",
    "# type()\tReturns the type of an object\n",
    "# vars()\tReturns the __dict__ property of an object\n",
    "# zip()\tReturns an iterator, from two or more iterators"
   ]
  },
  {
   "cell_type": "code",
   "execution_count": 3,
   "id": "ae979314",
   "metadata": {},
   "outputs": [
    {
     "name": "stdout",
     "output_type": "stream",
     "text": [
      "7.25\n"
     ]
    }
   ],
   "source": [
    "x = abs(-7.25)\n",
    "print(x)"
   ]
  },
  {
   "cell_type": "code",
   "execution_count": 4,
   "id": "366a972c",
   "metadata": {},
   "outputs": [
    {
     "name": "stdout",
     "output_type": "stream",
     "text": [
      "5.830951894845301\n"
     ]
    }
   ],
   "source": [
    "x = abs(3+5j)\n",
    "print(x)"
   ]
  },
  {
   "cell_type": "code",
   "execution_count": 5,
   "id": "1746e13b",
   "metadata": {},
   "outputs": [
    {
     "name": "stdout",
     "output_type": "stream",
     "text": [
      "True\n"
     ]
    }
   ],
   "source": [
    "#The all() function returns True if all items in an iterable are true, otherwise it returns False.\n",
    "mylist = [True, True, True]\n",
    "x = all(mylist)\n",
    "print(x)"
   ]
  },
  {
   "cell_type": "code",
   "execution_count": 6,
   "id": "67c31b6a",
   "metadata": {},
   "outputs": [
    {
     "name": "stdout",
     "output_type": "stream",
     "text": [
      "True\n"
     ]
    }
   ],
   "source": [
    "mylist = [False, True, False]\n",
    "x = any(mylist)\n",
    "print(x)"
   ]
  },
  {
   "cell_type": "code",
   "execution_count": 8,
   "id": "2814f278",
   "metadata": {},
   "outputs": [
    {
     "name": "stdout",
     "output_type": "stream",
     "text": [
      "'My name is St\\xe5le'\n"
     ]
    }
   ],
   "source": [
    "x = ascii(\"My name is Ståle\")  #å will be replaced with \\xe5\n",
    "print(x)"
   ]
  },
  {
   "cell_type": "code",
   "execution_count": 10,
   "id": "6e127b81",
   "metadata": {},
   "outputs": [
    {
     "name": "stdout",
     "output_type": "stream",
     "text": [
      "0b100100\n"
     ]
    }
   ],
   "source": [
    "x = bin(36) #Binary of 36\n",
    "print(x)"
   ]
  },
  {
   "cell_type": "code",
   "execution_count": 11,
   "id": "8b00c40f",
   "metadata": {},
   "outputs": [
    {
     "name": "stdout",
     "output_type": "stream",
     "text": [
      "True\n"
     ]
    }
   ],
   "source": [
    "x = bool(1) #Returns bool of 1\n",
    "print(x)"
   ]
  },
  {
   "cell_type": "code",
   "execution_count": 12,
   "id": "aa760e8d",
   "metadata": {},
   "outputs": [
    {
     "name": "stdout",
     "output_type": "stream",
     "text": [
      "bytearray(b'\\x00\\x00\\x00\\x00')\n"
     ]
    }
   ],
   "source": [
    "x = bytearray(4) # Returns byte array objects for modifications\n",
    "print(x)"
   ]
  },
  {
   "cell_type": "code",
   "execution_count": 13,
   "id": "b4f4e8e7",
   "metadata": {},
   "outputs": [
    {
     "name": "stdout",
     "output_type": "stream",
     "text": [
      "b'\\x00\\x00\\x00\\x00'\n"
     ]
    }
   ],
   "source": [
    "x = bytes(4) # Returns array of 4 bytes no modications\n",
    "print(x)"
   ]
  },
  {
   "cell_type": "code",
   "execution_count": 14,
   "id": "154ad6a0",
   "metadata": {},
   "outputs": [
    {
     "name": "stdout",
     "output_type": "stream",
     "text": [
      "True\n"
     ]
    }
   ],
   "source": [
    "def x():  #returns True if the specified object is callable, otherwise it returns False\n",
    "  a = 5\n",
    "\n",
    "print(callable(x))\n"
   ]
  },
  {
   "cell_type": "code",
   "execution_count": 15,
   "id": "921b34fa",
   "metadata": {},
   "outputs": [
    {
     "name": "stdout",
     "output_type": "stream",
     "text": [
      "a\n"
     ]
    }
   ],
   "source": [
    "x = chr(97)  #returns the character that represents the specified unicode\n",
    "print(x) "
   ]
  },
  {
   "cell_type": "code",
   "execution_count": 16,
   "id": "d6c954f8",
   "metadata": {},
   "outputs": [
    {
     "name": "stdout",
     "output_type": "stream",
     "text": [
      "Purchase course :  DSA\n"
     ]
    }
   ],
   "source": [
    "#Converts a method into a class method\n",
    "class geeks:\n",
    "    course = 'DSA'\n",
    " \n",
    "    def purchase(obj):\n",
    "        print(\"Purchase course : \", obj.course)\n",
    " \n",
    " \n",
    "geeks.purchase = classmethod(geeks.purchase)\n",
    "geeks.purchase()"
   ]
  },
  {
   "cell_type": "code",
   "execution_count": 19,
   "id": "23acd57d",
   "metadata": {},
   "outputs": [
    {
     "name": "stdout",
     "output_type": "stream",
     "text": [
      "55\n"
     ]
    }
   ],
   "source": [
    "x = compile('print(55)', 'test', 'eval')  #returns the specified source as a code object, ready to be executed.\n",
    "exec(x)"
   ]
  },
  {
   "cell_type": "code",
   "execution_count": 21,
   "id": "d5d13fa2",
   "metadata": {},
   "outputs": [
    {
     "name": "stdout",
     "output_type": "stream",
     "text": [
      "(3+5j)\n"
     ]
    }
   ],
   "source": [
    "x = complex(3, 5) #Returns complex number\n",
    "print(x)"
   ]
  },
  {
   "cell_type": "code",
   "execution_count": 22,
   "id": "13d47dfb",
   "metadata": {},
   "outputs": [],
   "source": [
    "class Person:    # Deletes the specified attribute from the specified object\n",
    "  name = \"John\"\n",
    "  age = 36\n",
    "  country = \"Norway\"\n",
    "\n",
    "delattr(Person, 'age')\n"
   ]
  },
  {
   "cell_type": "code",
   "execution_count": 24,
   "id": "4f0961aa",
   "metadata": {},
   "outputs": [
    {
     "name": "stdout",
     "output_type": "stream",
     "text": [
      "{'name': 'John', 'age': 36, 'country': 'Norway'}\n"
     ]
    }
   ],
   "source": [
    "x = dict(name = \"John\", age = 36, country = \"Norway\") #Dictionary \n",
    "print(x)"
   ]
  },
  {
   "cell_type": "code",
   "execution_count": 25,
   "id": "e1bfeeea",
   "metadata": {},
   "outputs": [
    {
     "name": "stdout",
     "output_type": "stream",
     "text": [
      "['__class__', '__delattr__', '__dict__', '__dir__', '__doc__', '__eq__', '__format__', '__ge__', '__getattribute__', '__getstate__', '__gt__', '__hash__', '__init__', '__init_subclass__', '__le__', '__lt__', '__module__', '__ne__', '__new__', '__reduce__', '__reduce_ex__', '__repr__', '__setattr__', '__sizeof__', '__str__', '__subclasshook__', '__weakref__', 'age', 'country', 'name']\n"
     ]
    }
   ],
   "source": [
    "class Person:   #Returns all properties and methods of the specified object, without the values.\n",
    "  name = \"John\"\n",
    "  age = 36\n",
    "  country = \"Norway\"\n",
    "\n",
    "print(dir(Person))"
   ]
  },
  {
   "cell_type": "code",
   "execution_count": 26,
   "id": "8393f783",
   "metadata": {},
   "outputs": [
    {
     "name": "stdout",
     "output_type": "stream",
     "text": [
      "(2, 1)\n"
     ]
    }
   ],
   "source": [
    "#Returns a tuple containing the quotient  and the remainder when argument1 (dividend) is divided by argument2 (divisor)\n",
    "x = divmod(5, 2)\n",
    "print(x)"
   ]
  },
  {
   "cell_type": "code",
   "execution_count": 27,
   "id": "8bb8f05f",
   "metadata": {},
   "outputs": [
    {
     "name": "stdout",
     "output_type": "stream",
     "text": [
      "<enumerate object at 0x000002CDD1284CC0>\n"
     ]
    }
   ],
   "source": [
    "x = ('apple', 'banana', 'cherry') #Convert a tuple into an enumerate object\n",
    "y = enumerate(x)\n",
    "print(y)"
   ]
  },
  {
   "cell_type": "code",
   "execution_count": 28,
   "id": "dc6ba114",
   "metadata": {},
   "outputs": [
    {
     "name": "stdout",
     "output_type": "stream",
     "text": [
      "55\n"
     ]
    }
   ],
   "source": [
    "x = 'print(55)'  #Evaluates the specified expression that is legal\n",
    "eval(x)  "
   ]
  },
  {
   "cell_type": "code",
   "execution_count": 29,
   "id": "6fd2f6ec",
   "metadata": {},
   "outputs": [
    {
     "name": "stdout",
     "output_type": "stream",
     "text": [
      "John\n"
     ]
    }
   ],
   "source": [
    "x = 'name = \"John\"\\nprint(name)'   #Execute a block of code\n",
    "exec(x)"
   ]
  },
  {
   "cell_type": "code",
   "execution_count": 34,
   "id": "6fc83629",
   "metadata": {},
   "outputs": [
    {
     "name": "stdout",
     "output_type": "stream",
     "text": [
      "12\n",
      "17\n",
      "18\n",
      "24\n",
      "32\n"
     ]
    }
   ],
   "source": [
    "# Returns an iterator where the items are filtered through a function to test if the item is accepted or not.\n",
    "ages = [5, 12, 17, 18, 24, 32]\n",
    "\n",
    "def myFunc(x):\n",
    "  if x < 9:\n",
    "    return False\n",
    "  else:\n",
    "    return True\n",
    "\n",
    "adults = filter(myFunc, ages)\n",
    "\n",
    "for x in adults:\n",
    "  print(x)\n"
   ]
  },
  {
   "cell_type": "code",
   "execution_count": 36,
   "id": "d409257a",
   "metadata": {},
   "outputs": [
    {
     "name": "stdout",
     "output_type": "stream",
     "text": [
      "3.0\n"
     ]
    }
   ],
   "source": [
    "x = float(3)  # Converts to float type\n",
    "print(x)"
   ]
  },
  {
   "cell_type": "code",
   "execution_count": 37,
   "id": "978b1e00",
   "metadata": {},
   "outputs": [
    {
     "name": "stdout",
     "output_type": "stream",
     "text": [
      "50.000000%\n"
     ]
    }
   ],
   "source": [
    "x = format(0.5, '%')  # Formats a specified value into a specified format\n",
    "print(x)"
   ]
  },
  {
   "cell_type": "code",
   "execution_count": 39,
   "id": "933b104e",
   "metadata": {},
   "outputs": [
    {
     "name": "stdout",
     "output_type": "stream",
     "text": [
      "frozenset({'banana', 'apple', 'cherry'})\n"
     ]
    }
   ],
   "source": [
    "# Returns an unchangeable frozenset object like set\n",
    "mylist = ['apple', 'banana', 'cherry']\n",
    "x = frozenset(mylist)\n",
    "print(x)"
   ]
  },
  {
   "cell_type": "code",
   "execution_count": 41,
   "id": "e8feab96",
   "metadata": {},
   "outputs": [
    {
     "name": "stdout",
     "output_type": "stream",
     "text": [
      "36\n"
     ]
    }
   ],
   "source": [
    "#Returns the value of the specified attribute from the specified object\n",
    "\n",
    "class Person:\n",
    "  name = \"John\"\n",
    "  age = 36\n",
    "  country = \"Norway\"\n",
    "\n",
    "x = getattr(Person, 'age')\n",
    "\n",
    "print(x)"
   ]
  },
  {
   "cell_type": "code",
   "execution_count": 42,
   "id": "6c2539a0",
   "metadata": {},
   "outputs": [
    {
     "name": "stdout",
     "output_type": "stream",
     "text": [
      "{'__name__': '__main__', '__doc__': 'Automatically created module for IPython interactive environment', '__package__': None, '__loader__': None, '__spec__': None, '__builtin__': <module 'builtins' (built-in)>, '__builtins__': <module 'builtins' (built-in)>, '_ih': ['', \"#Python built-in function\\n\\n# Function\\tDescription\\n\\n# abs()\\tReturns the absolute value of a number\\n# all()\\tReturns True if all items in an iterable object are true\\n# any()\\tReturns True if any item in an iterable object is true\\n# ascii()\\tReturns a readable version of an object. Replaces none-ascii characters with escape character\\n# bin()\\tReturns the binary version of a number\\n# bool()\\tReturns the boolean value of the specified object\\n# bytearray()\\tReturns an array of bytes\\n# bytes()\\tReturns a bytes object\\n# callable()\\tReturns True if the specified object is callable, otherwise False\\n# chr()\\tReturns a character from the specified Unicode code.\\n# classmethod()\\tConverts a method into a class method\\n# compile()\\tReturns the specified source as an object, ready to be executed\\n# complex()\\tReturns a complex number\\n# delattr()\\tDeletes the specified attribute (property or method) from the specified object\\n# dict()\\tReturns a dictionary (Array)\\n# dir()\\tReturns a list of the specified object's properties and methods\\n# divmod()\\tReturns the quotient and the remainder when argument1 is divided by argument2\\n# enumerate()\\tTakes a collection (e.g. a tuple) and returns it as an enumerate object\\n# eval()\\tEvaluates and executes an expression\\n# exec()\\tExecutes the specified code (or object)\\n# filter()\\tUse a filter function to exclude items in an iterable object\\n# float()\\tReturns a floating point number\\n# format()\\tFormats a specified value\\n# frozenset()\\tReturns a frozenset object\\n# getattr()\\tReturns the value of the specified attribute (property or method)\\n# globals()\\tReturns the current global symbol table as a dictionary\\n# hasattr()\\tReturns True if the specified object has the specified attribute (property/method)\\n# hash()\\tReturns the hash value of a specified object\\n# help()\\tExecutes the built-in help system\\n# hex()\\tConverts a number into a hexadecimal value\\n# id()\\tReturns the id of an object\\n# input()\\tAllowing user input\\n# int()\\tReturns an integer number\\n# isinstance()\\tReturns True if a specified object is an instance of a specified object\\n# issubclass()\\tReturns True if a specified class is a subclass of a specified object\\n# iter()\\tReturns an iterator object\\n# len()\\tReturns the length of an object\\n# list()\\tReturns a list\\n# locals()\\tReturns an updated dictionary of the current local symbol table\\n# map()\\tReturns the specified iterator with the specified function applied to each item\\n# max()\\tReturns the largest item in an iterable\\n# memoryview()\\tReturns a memory view object\\n# min()\\tReturns the smallest item in an iterable\\n# next()\\tReturns the next item in an iterable\\n# object()\\tReturns a new object\\n# oct()\\tConverts a number into an octal\\n# open()\\tOpens a file and returns a file object\\n# ord()\\tConvert an integer representing the Unicode of the specified character\\n# pow()\\tReturns the value of x to the power of y\\n# print()\\tPrints to the standard output device\\n# property()\\tGets, sets, deletes a property\\n# range()\\tReturns a sequence of numbers, starting from 0 and increments by 1 (by default)\\n# repr()\\tReturns a readable version of an object\\n# reversed()\\tReturns a reversed iterator\\n# round()\\tRounds a numbers\\n# set()\\tReturns a new set object\\n# setattr()\\tSets an attribute (property/method) of an object\\n# slice()\\tReturns a slice object\\n# sorted()\\tReturns a sorted list\\n# staticmethod()\\tConverts a method into a static method\\n# str()\\tReturns a string object\\n# sum()\\tSums the items of an iterator\\n# super()\\tReturns an object that represents the parent class\\n# tuple()\\tReturns a tuple\\n# type()\\tReturns the type of an object\\n# vars()\\tReturns the __dict__ property of an object\\n# zip()\\tReturns an iterator, from two or more iterators\", 'x = abs(-7.25)', 'x = abs(-7.25)\\nprint(x)', 'x = abs(3+5j)\\nprint(x)', 'mylist = [True, True, True]\\nx = all(mylist)\\nprint(x)', 'mylist = [False, True, False]\\nx = any(mylist)\\nprint(x)', 'x = ascii(\"My name is Ståle\")\\nprint(x)', 'x = ascii(\"My name is Ståle\")  #å will be replaced with \\\\xe5\\nprint(x)', 'x = bin(36)\\nprint(x)', 'x = bin(36) #Binary of 36\\nprint(x)', 'x = bool(1)\\nprint(x)', 'x = bytearray(4)\\nprint(x)', 'x = bytes(4)\\nprint(x)', 'def x():  #returns True if the specified object is callable, otherwise it returns False\\n  a = 5\\n\\nprint(callable(x))', 'x = chr(97)\\nprint(x)', '#Converts a method into a class method\\nclass geeks:\\n    course = \\'DSA\\'\\n \\n    def purchase(obj):\\n        print(\"Purchase course : \", obj.course)\\n \\n \\ngeeks.purchase = classmethod(geeks.purchase)\\ngeeks.purchase()', \"x = compile('print(55)', 'test', 'eval')\\nexec(x)\", \"x = compile('print(55)', 'test', 'eval')  #returns the specified source as a code object, ready to be executed.\\n\\n\\nexec(x)\", \"x = compile('print(55)', 'test', 'eval')  #returns the specified source as a code object, ready to be executed.\\nexec(x)\", 'x = complex(3, 5)\\nprint(x)', 'x = complex(3, 5) #Returns complex number\\nprint(x)', 'class Person:\\n  name = \"John\"\\n  age = 36\\n  country = \"Norway\"\\n\\ndelattr(Person, \\'age\\')', 'x = dict(name = \"John\", age = 36, country = \"Norway\")\\nprint(x)', 'x = dict(name = \"John\", age = 36, country = \"Norway\") #Dictionary \\nprint(x)', 'class Person:  \\n  name = \"John\"\\n  age = 36\\n  country = \"Norway\"\\n\\nprint(dir(Person))', 'x = divmod(5, 2)\\nprint(x)', \"x = ('apple', 'banana', 'cherry')\\ny = enumerate(x)\\nprint(y)\", \"x = 'print(55)'\\neval(x)\", 'x = \\'name = \"John\"\\\\nprint(name)\\'\\nexec(x)', 'ages = [5, 12, 17, 18, 24, 32]\\n\\ndef myFunc(x):\\n  if x < 18:\\n    return False\\n  else:\\n    return True\\n\\nadults = filter(myFunc, ages)\\n\\nfor x in adults:\\n  print(x)', '# Returns an iterator where the items are filtered through a function to test if the item is accepted or not.\\nages = [5, 12, 17, 18, 24, 32]\\n\\ndef myFunc(x):\\n  if x < 1:\\n    return False\\n  else:\\n    return True\\n\\nadults = filter(myFunc, ages)\\n\\nfor x in adults:\\n  print(x)', '# Returns an iterator where the items are filtered through a function to test if the item is accepted or not.\\nages = [5, 12, 17, 18, 24, 32]\\n\\ndef myFunc(x):\\n  if x < 18:\\n    return False\\n  else:\\n    return True\\n\\nadults = filter(myFunc, ages)\\n\\nfor x in adults:\\n  print(x)', '# Returns an iterator where the items are filtered through a function to test if the item is accepted or not.\\nages = [5, 12, 17, 18, 24, 32]\\n\\ndef myFunc(x):\\n  if x < 19:\\n    return False\\n  else:\\n    return True\\n\\nadults = filter(myFunc, ages)\\n\\nfor x in adults:\\n  print(x)', '# Returns an iterator where the items are filtered through a function to test if the item is accepted or not.\\nages = [5, 12, 17, 18, 24, 32]\\n\\ndef myFunc(x):\\n  if x < 9:\\n    return False\\n  else:\\n    return True\\n\\nadults = filter(myFunc, ages)\\n\\nfor x in adults:\\n  print(x)', 'x = float(3)  # Converts to float type', 'x = float(3)  # Converts to float type\\nprint(x)', \"x = format(0.5, '%')\\nprint(x)\", \"mylist = ['apple', 'banana', 'cherry']\\nx = frozenset(mylist)\\nprint(x)\", \"# Returns an unchangeable frozenset object \\nmylist = ['apple', 'banana', 'cherry']\\nx = frozenset(mylist)\\nprint(x)\", 'class Person:\\n  name = \"John\"\\n  age = 36\\n  country = \"Norway\"\\n\\nx = getattr(Person, \\'age\\')', 'class Person:\\n  name = \"John\"\\n  age = 36\\n  country = \"Norway\"\\n\\nx = getattr(Person, \\'age\\')\\nprint(x)', 'x = globals()\\nprint(x)'], '_oh': {}, '_dh': [WindowsPath('C:/Users/parth/pythonwork')], 'In': ['', \"#Python built-in function\\n\\n# Function\\tDescription\\n\\n# abs()\\tReturns the absolute value of a number\\n# all()\\tReturns True if all items in an iterable object are true\\n# any()\\tReturns True if any item in an iterable object is true\\n# ascii()\\tReturns a readable version of an object. Replaces none-ascii characters with escape character\\n# bin()\\tReturns the binary version of a number\\n# bool()\\tReturns the boolean value of the specified object\\n# bytearray()\\tReturns an array of bytes\\n# bytes()\\tReturns a bytes object\\n# callable()\\tReturns True if the specified object is callable, otherwise False\\n# chr()\\tReturns a character from the specified Unicode code.\\n# classmethod()\\tConverts a method into a class method\\n# compile()\\tReturns the specified source as an object, ready to be executed\\n# complex()\\tReturns a complex number\\n# delattr()\\tDeletes the specified attribute (property or method) from the specified object\\n# dict()\\tReturns a dictionary (Array)\\n# dir()\\tReturns a list of the specified object's properties and methods\\n# divmod()\\tReturns the quotient and the remainder when argument1 is divided by argument2\\n# enumerate()\\tTakes a collection (e.g. a tuple) and returns it as an enumerate object\\n# eval()\\tEvaluates and executes an expression\\n# exec()\\tExecutes the specified code (or object)\\n# filter()\\tUse a filter function to exclude items in an iterable object\\n# float()\\tReturns a floating point number\\n# format()\\tFormats a specified value\\n# frozenset()\\tReturns a frozenset object\\n# getattr()\\tReturns the value of the specified attribute (property or method)\\n# globals()\\tReturns the current global symbol table as a dictionary\\n# hasattr()\\tReturns True if the specified object has the specified attribute (property/method)\\n# hash()\\tReturns the hash value of a specified object\\n# help()\\tExecutes the built-in help system\\n# hex()\\tConverts a number into a hexadecimal value\\n# id()\\tReturns the id of an object\\n# input()\\tAllowing user input\\n# int()\\tReturns an integer number\\n# isinstance()\\tReturns True if a specified object is an instance of a specified object\\n# issubclass()\\tReturns True if a specified class is a subclass of a specified object\\n# iter()\\tReturns an iterator object\\n# len()\\tReturns the length of an object\\n# list()\\tReturns a list\\n# locals()\\tReturns an updated dictionary of the current local symbol table\\n# map()\\tReturns the specified iterator with the specified function applied to each item\\n# max()\\tReturns the largest item in an iterable\\n# memoryview()\\tReturns a memory view object\\n# min()\\tReturns the smallest item in an iterable\\n# next()\\tReturns the next item in an iterable\\n# object()\\tReturns a new object\\n# oct()\\tConverts a number into an octal\\n# open()\\tOpens a file and returns a file object\\n# ord()\\tConvert an integer representing the Unicode of the specified character\\n# pow()\\tReturns the value of x to the power of y\\n# print()\\tPrints to the standard output device\\n# property()\\tGets, sets, deletes a property\\n# range()\\tReturns a sequence of numbers, starting from 0 and increments by 1 (by default)\\n# repr()\\tReturns a readable version of an object\\n# reversed()\\tReturns a reversed iterator\\n# round()\\tRounds a numbers\\n# set()\\tReturns a new set object\\n# setattr()\\tSets an attribute (property/method) of an object\\n# slice()\\tReturns a slice object\\n# sorted()\\tReturns a sorted list\\n# staticmethod()\\tConverts a method into a static method\\n# str()\\tReturns a string object\\n# sum()\\tSums the items of an iterator\\n# super()\\tReturns an object that represents the parent class\\n# tuple()\\tReturns a tuple\\n# type()\\tReturns the type of an object\\n# vars()\\tReturns the __dict__ property of an object\\n# zip()\\tReturns an iterator, from two or more iterators\", 'x = abs(-7.25)', 'x = abs(-7.25)\\nprint(x)', 'x = abs(3+5j)\\nprint(x)', 'mylist = [True, True, True]\\nx = all(mylist)\\nprint(x)', 'mylist = [False, True, False]\\nx = any(mylist)\\nprint(x)', 'x = ascii(\"My name is Ståle\")\\nprint(x)', 'x = ascii(\"My name is Ståle\")  #å will be replaced with \\\\xe5\\nprint(x)', 'x = bin(36)\\nprint(x)', 'x = bin(36) #Binary of 36\\nprint(x)', 'x = bool(1)\\nprint(x)', 'x = bytearray(4)\\nprint(x)', 'x = bytes(4)\\nprint(x)', 'def x():  #returns True if the specified object is callable, otherwise it returns False\\n  a = 5\\n\\nprint(callable(x))', 'x = chr(97)\\nprint(x)', '#Converts a method into a class method\\nclass geeks:\\n    course = \\'DSA\\'\\n \\n    def purchase(obj):\\n        print(\"Purchase course : \", obj.course)\\n \\n \\ngeeks.purchase = classmethod(geeks.purchase)\\ngeeks.purchase()', \"x = compile('print(55)', 'test', 'eval')\\nexec(x)\", \"x = compile('print(55)', 'test', 'eval')  #returns the specified source as a code object, ready to be executed.\\n\\n\\nexec(x)\", \"x = compile('print(55)', 'test', 'eval')  #returns the specified source as a code object, ready to be executed.\\nexec(x)\", 'x = complex(3, 5)\\nprint(x)', 'x = complex(3, 5) #Returns complex number\\nprint(x)', 'class Person:\\n  name = \"John\"\\n  age = 36\\n  country = \"Norway\"\\n\\ndelattr(Person, \\'age\\')', 'x = dict(name = \"John\", age = 36, country = \"Norway\")\\nprint(x)', 'x = dict(name = \"John\", age = 36, country = \"Norway\") #Dictionary \\nprint(x)', 'class Person:  \\n  name = \"John\"\\n  age = 36\\n  country = \"Norway\"\\n\\nprint(dir(Person))', 'x = divmod(5, 2)\\nprint(x)', \"x = ('apple', 'banana', 'cherry')\\ny = enumerate(x)\\nprint(y)\", \"x = 'print(55)'\\neval(x)\", 'x = \\'name = \"John\"\\\\nprint(name)\\'\\nexec(x)', 'ages = [5, 12, 17, 18, 24, 32]\\n\\ndef myFunc(x):\\n  if x < 18:\\n    return False\\n  else:\\n    return True\\n\\nadults = filter(myFunc, ages)\\n\\nfor x in adults:\\n  print(x)', '# Returns an iterator where the items are filtered through a function to test if the item is accepted or not.\\nages = [5, 12, 17, 18, 24, 32]\\n\\ndef myFunc(x):\\n  if x < 1:\\n    return False\\n  else:\\n    return True\\n\\nadults = filter(myFunc, ages)\\n\\nfor x in adults:\\n  print(x)', '# Returns an iterator where the items are filtered through a function to test if the item is accepted or not.\\nages = [5, 12, 17, 18, 24, 32]\\n\\ndef myFunc(x):\\n  if x < 18:\\n    return False\\n  else:\\n    return True\\n\\nadults = filter(myFunc, ages)\\n\\nfor x in adults:\\n  print(x)', '# Returns an iterator where the items are filtered through a function to test if the item is accepted or not.\\nages = [5, 12, 17, 18, 24, 32]\\n\\ndef myFunc(x):\\n  if x < 19:\\n    return False\\n  else:\\n    return True\\n\\nadults = filter(myFunc, ages)\\n\\nfor x in adults:\\n  print(x)', '# Returns an iterator where the items are filtered through a function to test if the item is accepted or not.\\nages = [5, 12, 17, 18, 24, 32]\\n\\ndef myFunc(x):\\n  if x < 9:\\n    return False\\n  else:\\n    return True\\n\\nadults = filter(myFunc, ages)\\n\\nfor x in adults:\\n  print(x)', 'x = float(3)  # Converts to float type', 'x = float(3)  # Converts to float type\\nprint(x)', \"x = format(0.5, '%')\\nprint(x)\", \"mylist = ['apple', 'banana', 'cherry']\\nx = frozenset(mylist)\\nprint(x)\", \"# Returns an unchangeable frozenset object \\nmylist = ['apple', 'banana', 'cherry']\\nx = frozenset(mylist)\\nprint(x)\", 'class Person:\\n  name = \"John\"\\n  age = 36\\n  country = \"Norway\"\\n\\nx = getattr(Person, \\'age\\')', 'class Person:\\n  name = \"John\"\\n  age = 36\\n  country = \"Norway\"\\n\\nx = getattr(Person, \\'age\\')\\nprint(x)', 'x = globals()\\nprint(x)'], 'Out': {}, 'get_ipython': <bound method InteractiveShell.get_ipython of <ipykernel.zmqshell.ZMQInteractiveShell object at 0x000002CDD11E9310>>, 'exit': <IPython.core.autocall.ZMQExitAutocall object at 0x000002CDD12149D0>, 'quit': <IPython.core.autocall.ZMQExitAutocall object at 0x000002CDD12149D0>, 'open': <function open at 0x000002CDCF187A60>, '_': '', '__': '', '___': '', '_i': 'class Person:\\n  name = \"John\"\\n  age = 36\\n  country = \"Norway\"\\n\\nx = getattr(Person, \\'age\\')\\nprint(x)', '_ii': 'class Person:\\n  name = \"John\"\\n  age = 36\\n  country = \"Norway\"\\n\\nx = getattr(Person, \\'age\\')', '_iii': \"# Returns an unchangeable frozenset object \\nmylist = ['apple', 'banana', 'cherry']\\nx = frozenset(mylist)\\nprint(x)\", '_i1': \"#Python built-in function\\n\\n# Function\\tDescription\\n\\n# abs()\\tReturns the absolute value of a number\\n# all()\\tReturns True if all items in an iterable object are true\\n# any()\\tReturns True if any item in an iterable object is true\\n# ascii()\\tReturns a readable version of an object. Replaces none-ascii characters with escape character\\n# bin()\\tReturns the binary version of a number\\n# bool()\\tReturns the boolean value of the specified object\\n# bytearray()\\tReturns an array of bytes\\n# bytes()\\tReturns a bytes object\\n# callable()\\tReturns True if the specified object is callable, otherwise False\\n# chr()\\tReturns a character from the specified Unicode code.\\n# classmethod()\\tConverts a method into a class method\\n# compile()\\tReturns the specified source as an object, ready to be executed\\n# complex()\\tReturns a complex number\\n# delattr()\\tDeletes the specified attribute (property or method) from the specified object\\n# dict()\\tReturns a dictionary (Array)\\n# dir()\\tReturns a list of the specified object's properties and methods\\n# divmod()\\tReturns the quotient and the remainder when argument1 is divided by argument2\\n# enumerate()\\tTakes a collection (e.g. a tuple) and returns it as an enumerate object\\n# eval()\\tEvaluates and executes an expression\\n# exec()\\tExecutes the specified code (or object)\\n# filter()\\tUse a filter function to exclude items in an iterable object\\n# float()\\tReturns a floating point number\\n# format()\\tFormats a specified value\\n# frozenset()\\tReturns a frozenset object\\n# getattr()\\tReturns the value of the specified attribute (property or method)\\n# globals()\\tReturns the current global symbol table as a dictionary\\n# hasattr()\\tReturns True if the specified object has the specified attribute (property/method)\\n# hash()\\tReturns the hash value of a specified object\\n# help()\\tExecutes the built-in help system\\n# hex()\\tConverts a number into a hexadecimal value\\n# id()\\tReturns the id of an object\\n# input()\\tAllowing user input\\n# int()\\tReturns an integer number\\n# isinstance()\\tReturns True if a specified object is an instance of a specified object\\n# issubclass()\\tReturns True if a specified class is a subclass of a specified object\\n# iter()\\tReturns an iterator object\\n# len()\\tReturns the length of an object\\n# list()\\tReturns a list\\n# locals()\\tReturns an updated dictionary of the current local symbol table\\n# map()\\tReturns the specified iterator with the specified function applied to each item\\n# max()\\tReturns the largest item in an iterable\\n# memoryview()\\tReturns a memory view object\\n# min()\\tReturns the smallest item in an iterable\\n# next()\\tReturns the next item in an iterable\\n# object()\\tReturns a new object\\n# oct()\\tConverts a number into an octal\\n# open()\\tOpens a file and returns a file object\\n# ord()\\tConvert an integer representing the Unicode of the specified character\\n# pow()\\tReturns the value of x to the power of y\\n# print()\\tPrints to the standard output device\\n# property()\\tGets, sets, deletes a property\\n# range()\\tReturns a sequence of numbers, starting from 0 and increments by 1 (by default)\\n# repr()\\tReturns a readable version of an object\\n# reversed()\\tReturns a reversed iterator\\n# round()\\tRounds a numbers\\n# set()\\tReturns a new set object\\n# setattr()\\tSets an attribute (property/method) of an object\\n# slice()\\tReturns a slice object\\n# sorted()\\tReturns a sorted list\\n# staticmethod()\\tConverts a method into a static method\\n# str()\\tReturns a string object\\n# sum()\\tSums the items of an iterator\\n# super()\\tReturns an object that represents the parent class\\n# tuple()\\tReturns a tuple\\n# type()\\tReturns the type of an object\\n# vars()\\tReturns the __dict__ property of an object\\n# zip()\\tReturns an iterator, from two or more iterators\", '_i2': 'x = abs(-7.25)', 'x': {...}, '_i3': 'x = abs(-7.25)\\nprint(x)', '_i4': 'x = abs(3+5j)\\nprint(x)', '_i5': 'mylist = [True, True, True]\\nx = all(mylist)\\nprint(x)', 'mylist': ['apple', 'banana', 'cherry'], '_i6': 'mylist = [False, True, False]\\nx = any(mylist)\\nprint(x)', '_i7': 'x = ascii(\"My name is Ståle\")\\nprint(x)', '_i8': 'x = ascii(\"My name is Ståle\")  #å will be replaced with \\\\xe5\\nprint(x)', '_i9': 'x = bin(36)\\nprint(x)', '_i10': 'x = bin(36) #Binary of 36\\nprint(x)', '_i11': 'x = bool(1)\\nprint(x)', '_i12': 'x = bytearray(4)\\nprint(x)', '_i13': 'x = bytes(4)\\nprint(x)', '_i14': 'def x():  #returns True if the specified object is callable, otherwise it returns False\\n  a = 5\\n\\nprint(callable(x))', '_i15': 'x = chr(97)\\nprint(x)', '_i16': '#Converts a method into a class method\\nclass geeks:\\n    course = \\'DSA\\'\\n \\n    def purchase(obj):\\n        print(\"Purchase course : \", obj.course)\\n \\n \\ngeeks.purchase = classmethod(geeks.purchase)\\ngeeks.purchase()', 'geeks': <class '__main__.geeks'>, '_i17': \"x = compile('print(55)', 'test', 'eval')\\nexec(x)\", '_i18': \"x = compile('print(55)', 'test', 'eval')  #returns the specified source as a code object, ready to be executed.\\n\\n\\nexec(x)\", '_i19': \"x = compile('print(55)', 'test', 'eval')  #returns the specified source as a code object, ready to be executed.\\nexec(x)\", '_i20': 'x = complex(3, 5)\\nprint(x)', '_i21': 'x = complex(3, 5) #Returns complex number\\nprint(x)', '_i22': 'class Person:\\n  name = \"John\"\\n  age = 36\\n  country = \"Norway\"\\n\\ndelattr(Person, \\'age\\')', 'Person': <class '__main__.Person'>, '_i23': 'x = dict(name = \"John\", age = 36, country = \"Norway\")\\nprint(x)', '_i24': 'x = dict(name = \"John\", age = 36, country = \"Norway\") #Dictionary \\nprint(x)', '_i25': 'class Person:  \\n  name = \"John\"\\n  age = 36\\n  country = \"Norway\"\\n\\nprint(dir(Person))', '_i26': 'x = divmod(5, 2)\\nprint(x)', '_i27': \"x = ('apple', 'banana', 'cherry')\\ny = enumerate(x)\\nprint(y)\", 'y': <enumerate object at 0x000002CDD1284CC0>, '_i28': \"x = 'print(55)'\\neval(x)\", '_i29': 'x = \\'name = \"John\"\\\\nprint(name)\\'\\nexec(x)', 'name': 'John', '_i30': 'ages = [5, 12, 17, 18, 24, 32]\\n\\ndef myFunc(x):\\n  if x < 18:\\n    return False\\n  else:\\n    return True\\n\\nadults = filter(myFunc, ages)\\n\\nfor x in adults:\\n  print(x)', 'ages': [5, 12, 17, 18, 24, 32], 'myFunc': <function myFunc at 0x000002CDD12A00E0>, 'adults': <filter object at 0x000002CDD1222E90>, '_i31': '# Returns an iterator where the items are filtered through a function to test if the item is accepted or not.\\nages = [5, 12, 17, 18, 24, 32]\\n\\ndef myFunc(x):\\n  if x < 1:\\n    return False\\n  else:\\n    return True\\n\\nadults = filter(myFunc, ages)\\n\\nfor x in adults:\\n  print(x)', '_i32': '# Returns an iterator where the items are filtered through a function to test if the item is accepted or not.\\nages = [5, 12, 17, 18, 24, 32]\\n\\ndef myFunc(x):\\n  if x < 18:\\n    return False\\n  else:\\n    return True\\n\\nadults = filter(myFunc, ages)\\n\\nfor x in adults:\\n  print(x)', '_i33': '# Returns an iterator where the items are filtered through a function to test if the item is accepted or not.\\nages = [5, 12, 17, 18, 24, 32]\\n\\ndef myFunc(x):\\n  if x < 19:\\n    return False\\n  else:\\n    return True\\n\\nadults = filter(myFunc, ages)\\n\\nfor x in adults:\\n  print(x)', '_i34': '# Returns an iterator where the items are filtered through a function to test if the item is accepted or not.\\nages = [5, 12, 17, 18, 24, 32]\\n\\ndef myFunc(x):\\n  if x < 9:\\n    return False\\n  else:\\n    return True\\n\\nadults = filter(myFunc, ages)\\n\\nfor x in adults:\\n  print(x)', '_i35': 'x = float(3)  # Converts to float type', '_i36': 'x = float(3)  # Converts to float type\\nprint(x)', '_i37': \"x = format(0.5, '%')\\nprint(x)\", '_i38': \"mylist = ['apple', 'banana', 'cherry']\\nx = frozenset(mylist)\\nprint(x)\", '_i39': \"# Returns an unchangeable frozenset object \\nmylist = ['apple', 'banana', 'cherry']\\nx = frozenset(mylist)\\nprint(x)\", '_i40': 'class Person:\\n  name = \"John\"\\n  age = 36\\n  country = \"Norway\"\\n\\nx = getattr(Person, \\'age\\')', '_i41': 'class Person:\\n  name = \"John\"\\n  age = 36\\n  country = \"Norway\"\\n\\nx = getattr(Person, \\'age\\')\\nprint(x)', '_i42': 'x = globals()\\nprint(x)'}\n"
     ]
    }
   ],
   "source": [
    "#Returns the global symbol table as a dictionary\n",
    "x = globals()\n",
    "print(x)"
   ]
  },
  {
   "cell_type": "code",
   "execution_count": 43,
   "id": "3737a596",
   "metadata": {},
   "outputs": [
    {
     "name": "stdout",
     "output_type": "stream",
     "text": [
      "True\n"
     ]
    }
   ],
   "source": [
    "# Returns True if the specified object has the specified attribute, otherwise False\n",
    "\n",
    "class Person:\n",
    "  name = \"John\"\n",
    "  age = 36\n",
    "  country = \"Norway\"\n",
    "\n",
    "x = hasattr(Person, 'age')\n",
    "print(x)"
   ]
  },
  {
   "cell_type": "code",
   "execution_count": 48,
   "id": "c59f05c3",
   "metadata": {},
   "outputs": [
    {
     "name": "stdout",
     "output_type": "stream",
     "text": [
      "Help on class int in module builtins:\n",
      "\n",
      "class int(object)\n",
      " |  int([x]) -> integer\n",
      " |  int(x, base=10) -> integer\n",
      " |  \n",
      " |  Convert a number or string to an integer, or return 0 if no arguments\n",
      " |  are given.  If x is a number, return x.__int__().  For floating point\n",
      " |  numbers, this truncates towards zero.\n",
      " |  \n",
      " |  If x is not a number or if base is given, then x must be a string,\n",
      " |  bytes, or bytearray instance representing an integer literal in the\n",
      " |  given base.  The literal can be preceded by '+' or '-' and be surrounded\n",
      " |  by whitespace.  The base defaults to 10.  Valid bases are 0 and 2-36.\n",
      " |  Base 0 means to interpret the base from the string as an integer literal.\n",
      " |  >>> int('0b100', base=0)\n",
      " |  4\n",
      " |  \n",
      " |  Built-in subclasses:\n",
      " |      bool\n",
      " |  \n",
      " |  Methods defined here:\n",
      " |  \n",
      " |  __abs__(self, /)\n",
      " |      abs(self)\n",
      " |  \n",
      " |  __add__(self, value, /)\n",
      " |      Return self+value.\n",
      " |  \n",
      " |  __and__(self, value, /)\n",
      " |      Return self&value.\n",
      " |  \n",
      " |  __bool__(self, /)\n",
      " |      True if self else False\n",
      " |  \n",
      " |  __ceil__(...)\n",
      " |      Ceiling of an Integral returns itself.\n",
      " |  \n",
      " |  __divmod__(self, value, /)\n",
      " |      Return divmod(self, value).\n",
      " |  \n",
      " |  __eq__(self, value, /)\n",
      " |      Return self==value.\n",
      " |  \n",
      " |  __float__(self, /)\n",
      " |      float(self)\n",
      " |  \n",
      " |  __floor__(...)\n",
      " |      Flooring an Integral returns itself.\n",
      " |  \n",
      " |  __floordiv__(self, value, /)\n",
      " |      Return self//value.\n",
      " |  \n",
      " |  __format__(self, format_spec, /)\n",
      " |      Default object formatter.\n",
      " |  \n",
      " |  __ge__(self, value, /)\n",
      " |      Return self>=value.\n",
      " |  \n",
      " |  __getattribute__(self, name, /)\n",
      " |      Return getattr(self, name).\n",
      " |  \n",
      " |  __getnewargs__(self, /)\n",
      " |  \n",
      " |  __gt__(self, value, /)\n",
      " |      Return self>value.\n",
      " |  \n",
      " |  __hash__(self, /)\n",
      " |      Return hash(self).\n",
      " |  \n",
      " |  __index__(self, /)\n",
      " |      Return self converted to an integer, if self is suitable for use as an index into a list.\n",
      " |  \n",
      " |  __int__(self, /)\n",
      " |      int(self)\n",
      " |  \n",
      " |  __invert__(self, /)\n",
      " |      ~self\n",
      " |  \n",
      " |  __le__(self, value, /)\n",
      " |      Return self<=value.\n",
      " |  \n",
      " |  __lshift__(self, value, /)\n",
      " |      Return self<<value.\n",
      " |  \n",
      " |  __lt__(self, value, /)\n",
      " |      Return self<value.\n",
      " |  \n",
      " |  __mod__(self, value, /)\n",
      " |      Return self%value.\n",
      " |  \n",
      " |  __mul__(self, value, /)\n",
      " |      Return self*value.\n",
      " |  \n",
      " |  __ne__(self, value, /)\n",
      " |      Return self!=value.\n",
      " |  \n",
      " |  __neg__(self, /)\n",
      " |      -self\n",
      " |  \n",
      " |  __or__(self, value, /)\n",
      " |      Return self|value.\n",
      " |  \n",
      " |  __pos__(self, /)\n",
      " |      +self\n",
      " |  \n",
      " |  __pow__(self, value, mod=None, /)\n",
      " |      Return pow(self, value, mod).\n",
      " |  \n",
      " |  __radd__(self, value, /)\n",
      " |      Return value+self.\n",
      " |  \n",
      " |  __rand__(self, value, /)\n",
      " |      Return value&self.\n",
      " |  \n",
      " |  __rdivmod__(self, value, /)\n",
      " |      Return divmod(value, self).\n",
      " |  \n",
      " |  __repr__(self, /)\n",
      " |      Return repr(self).\n",
      " |  \n",
      " |  __rfloordiv__(self, value, /)\n",
      " |      Return value//self.\n",
      " |  \n",
      " |  __rlshift__(self, value, /)\n",
      " |      Return value<<self.\n",
      " |  \n",
      " |  __rmod__(self, value, /)\n",
      " |      Return value%self.\n",
      " |  \n",
      " |  __rmul__(self, value, /)\n",
      " |      Return value*self.\n",
      " |  \n",
      " |  __ror__(self, value, /)\n",
      " |      Return value|self.\n",
      " |  \n",
      " |  __round__(...)\n",
      " |      Rounding an Integral returns itself.\n",
      " |      \n",
      " |      Rounding with an ndigits argument also returns an integer.\n",
      " |  \n",
      " |  __rpow__(self, value, mod=None, /)\n",
      " |      Return pow(value, self, mod).\n",
      " |  \n",
      " |  __rrshift__(self, value, /)\n",
      " |      Return value>>self.\n",
      " |  \n",
      " |  __rshift__(self, value, /)\n",
      " |      Return self>>value.\n",
      " |  \n",
      " |  __rsub__(self, value, /)\n",
      " |      Return value-self.\n",
      " |  \n",
      " |  __rtruediv__(self, value, /)\n",
      " |      Return value/self.\n",
      " |  \n",
      " |  __rxor__(self, value, /)\n",
      " |      Return value^self.\n",
      " |  \n",
      " |  __sizeof__(self, /)\n",
      " |      Returns size in memory, in bytes.\n",
      " |  \n",
      " |  __sub__(self, value, /)\n",
      " |      Return self-value.\n",
      " |  \n",
      " |  __truediv__(self, value, /)\n",
      " |      Return self/value.\n",
      " |  \n",
      " |  __trunc__(...)\n",
      " |      Truncating an Integral returns itself.\n",
      " |  \n",
      " |  __xor__(self, value, /)\n",
      " |      Return self^value.\n",
      " |  \n",
      " |  as_integer_ratio(self, /)\n",
      " |      Return integer ratio.\n",
      " |      \n",
      " |      Return a pair of integers, whose ratio is exactly equal to the original int\n",
      " |      and with a positive denominator.\n",
      " |      \n",
      " |      >>> (10).as_integer_ratio()\n",
      " |      (10, 1)\n",
      " |      >>> (-10).as_integer_ratio()\n",
      " |      (-10, 1)\n",
      " |      >>> (0).as_integer_ratio()\n",
      " |      (0, 1)\n",
      " |  \n",
      " |  bit_count(self, /)\n",
      " |      Number of ones in the binary representation of the absolute value of self.\n",
      " |      \n",
      " |      Also known as the population count.\n",
      " |      \n",
      " |      >>> bin(13)\n",
      " |      '0b1101'\n",
      " |      >>> (13).bit_count()\n",
      " |      3\n",
      " |  \n",
      " |  bit_length(self, /)\n",
      " |      Number of bits necessary to represent self in binary.\n",
      " |      \n",
      " |      >>> bin(37)\n",
      " |      '0b100101'\n",
      " |      >>> (37).bit_length()\n",
      " |      6\n",
      " |  \n",
      " |  conjugate(...)\n",
      " |      Returns self, the complex conjugate of any int.\n",
      " |  \n",
      " |  to_bytes(self, /, length=1, byteorder='big', *, signed=False)\n",
      " |      Return an array of bytes representing an integer.\n",
      " |      \n",
      " |      length\n",
      " |        Length of bytes object to use.  An OverflowError is raised if the\n",
      " |        integer is not representable with the given number of bytes.  Default\n",
      " |        is length 1.\n",
      " |      byteorder\n",
      " |        The byte order used to represent the integer.  If byteorder is 'big',\n",
      " |        the most significant byte is at the beginning of the byte array.  If\n",
      " |        byteorder is 'little', the most significant byte is at the end of the\n",
      " |        byte array.  To request the native byte order of the host system, use\n",
      " |        `sys.byteorder' as the byte order value.  Default is to use 'big'.\n",
      " |      signed\n",
      " |        Determines whether two's complement is used to represent the integer.\n",
      " |        If signed is False and a negative integer is given, an OverflowError\n",
      " |        is raised.\n",
      " |  \n",
      " |  ----------------------------------------------------------------------\n",
      " |  Class methods defined here:\n",
      " |  \n",
      " |  from_bytes(bytes, byteorder='big', *, signed=False) from builtins.type\n",
      " |      Return the integer represented by the given array of bytes.\n",
      " |      \n",
      " |      bytes\n",
      " |        Holds the array of bytes to convert.  The argument must either\n",
      " |        support the buffer protocol or be an iterable object producing bytes.\n",
      " |        Bytes and bytearray are examples of built-in objects that support the\n",
      " |        buffer protocol.\n",
      " |      byteorder\n",
      " |        The byte order used to represent the integer.  If byteorder is 'big',\n",
      " |        the most significant byte is at the beginning of the byte array.  If\n",
      " |        byteorder is 'little', the most significant byte is at the end of the\n",
      " |        byte array.  To request the native byte order of the host system, use\n",
      " |        `sys.byteorder' as the byte order value.  Default is to use 'big'.\n",
      " |      signed\n",
      " |        Indicates whether two's complement is used to represent the integer.\n",
      " |  \n",
      " |  ----------------------------------------------------------------------\n",
      " |  Static methods defined here:\n",
      " |  \n",
      " |  __new__(*args, **kwargs) from builtins.type\n",
      " |      Create and return a new object.  See help(type) for accurate signature.\n",
      " |  \n",
      " |  ----------------------------------------------------------------------\n",
      " |  Data descriptors defined here:\n",
      " |  \n",
      " |  denominator\n",
      " |      the denominator of a rational number in lowest terms\n",
      " |  \n",
      " |  imag\n",
      " |      the imaginary part of a complex number\n",
      " |  \n",
      " |  numerator\n",
      " |      the numerator of a rational number in lowest terms\n",
      " |  \n",
      " |  real\n",
      " |      the real part of a complex number\n",
      "\n"
     ]
    }
   ],
   "source": [
    "#Provides help to a built-in setup\n",
    "help(int)\n"
   ]
  },
  {
   "cell_type": "code",
   "execution_count": 49,
   "id": "be977424",
   "metadata": {},
   "outputs": [
    {
     "name": "stdout",
     "output_type": "stream",
     "text": [
      "0xff\n"
     ]
    }
   ],
   "source": [
    "x = hex(255) #hexadecimal value\n",
    "print(x)"
   ]
  },
  {
   "cell_type": "code",
   "execution_count": 51,
   "id": "0198ba1e",
   "metadata": {},
   "outputs": [
    {
     "name": "stdout",
     "output_type": "stream",
     "text": [
      "3083000180800\n"
     ]
    }
   ],
   "source": [
    "#Returns unique id for an onject\n",
    "\n",
    "x = ('apple', 'banana', 'cherry')\n",
    "y = id(x)\n",
    "\n",
    "print(y)"
   ]
  },
  {
   "cell_type": "code",
   "execution_count": 52,
   "id": "177b3790",
   "metadata": {},
   "outputs": [
    {
     "name": "stdout",
     "output_type": "stream",
     "text": [
      "Enter your name:\n",
      "Partha\n",
      "Hello, Partha\n"
     ]
    }
   ],
   "source": [
    "# Takes input from user\n",
    "print('Enter your name:')\n",
    "x = input()\n",
    "print('Hello, ' + x)"
   ]
  },
  {
   "cell_type": "code",
   "execution_count": 54,
   "id": "1812e13d",
   "metadata": {},
   "outputs": [
    {
     "name": "stdout",
     "output_type": "stream",
     "text": [
      "3\n"
     ]
    }
   ],
   "source": [
    "x = int(3.5)      #Converts to integer\n",
    "print(x)"
   ]
  },
  {
   "cell_type": "code",
   "execution_count": 57,
   "id": "9f283af7",
   "metadata": {},
   "outputs": [
    {
     "name": "stdout",
     "output_type": "stream",
     "text": [
      "True\n"
     ]
    }
   ],
   "source": [
    "#Returns True if the specified object is of the specified type, otherwise False.\n",
    "x = isinstance(5, int)\n",
    "print(x)"
   ]
  },
  {
   "cell_type": "code",
   "execution_count": 60,
   "id": "64b4f5e8",
   "metadata": {},
   "outputs": [
    {
     "name": "stdout",
     "output_type": "stream",
     "text": [
      "True\n"
     ]
    }
   ],
   "source": [
    "#Returns True if the specified object is a subclass of the specified object, otherwise False.\n",
    "\n",
    "class myAge:\n",
    "  age = 36\n",
    "\n",
    "class myObj(myAge):\n",
    "  name = \"John\"\n",
    "  age = myAge\n",
    "\n",
    "x = issubclass(myObj, myAge)\n",
    "\n",
    "print(x)"
   ]
  },
  {
   "cell_type": "code",
   "execution_count": 61,
   "id": "2ee16554",
   "metadata": {},
   "outputs": [
    {
     "name": "stdout",
     "output_type": "stream",
     "text": [
      "apple\n",
      "banana\n",
      "cherry\n"
     ]
    }
   ],
   "source": [
    "# Returns an iterator object\n",
    "\n",
    "x = iter([\"apple\", \"banana\", \"cherry\"])\n",
    "print(next(x))\n",
    "print(next(x))\n",
    "print(next(x))"
   ]
  },
  {
   "cell_type": "code",
   "execution_count": 63,
   "id": "844584d9",
   "metadata": {},
   "outputs": [
    {
     "name": "stdout",
     "output_type": "stream",
     "text": [
      "3\n"
     ]
    }
   ],
   "source": [
    "mylist = [\"apple\", \"banana\", \"cherry\"]  #Finds length of an object\n",
    "x = len(mylist)\n",
    "print(x)"
   ]
  },
  {
   "cell_type": "code",
   "execution_count": 64,
   "id": "a92ac995",
   "metadata": {},
   "outputs": [
    {
     "name": "stdout",
     "output_type": "stream",
     "text": [
      "['apple', 'banana', 'cherry']\n"
     ]
    }
   ],
   "source": [
    "x = list(('apple', 'banana', 'cherry'))  #Creats a list\n",
    "print(x)"
   ]
  },
  {
   "cell_type": "code",
   "execution_count": 65,
   "id": "947a448e",
   "metadata": {},
   "outputs": [
    {
     "name": "stdout",
     "output_type": "stream",
     "text": [
      "{'__name__': '__main__', '__doc__': 'Automatically created module for IPython interactive environment', '__package__': None, '__loader__': None, '__spec__': None, '__builtin__': <module 'builtins' (built-in)>, '__builtins__': <module 'builtins' (built-in)>, '_ih': ['', \"#Python built-in function\\n\\n# Function\\tDescription\\n\\n# abs()\\tReturns the absolute value of a number\\n# all()\\tReturns True if all items in an iterable object are true\\n# any()\\tReturns True if any item in an iterable object is true\\n# ascii()\\tReturns a readable version of an object. Replaces none-ascii characters with escape character\\n# bin()\\tReturns the binary version of a number\\n# bool()\\tReturns the boolean value of the specified object\\n# bytearray()\\tReturns an array of bytes\\n# bytes()\\tReturns a bytes object\\n# callable()\\tReturns True if the specified object is callable, otherwise False\\n# chr()\\tReturns a character from the specified Unicode code.\\n# classmethod()\\tConverts a method into a class method\\n# compile()\\tReturns the specified source as an object, ready to be executed\\n# complex()\\tReturns a complex number\\n# delattr()\\tDeletes the specified attribute (property or method) from the specified object\\n# dict()\\tReturns a dictionary (Array)\\n# dir()\\tReturns a list of the specified object's properties and methods\\n# divmod()\\tReturns the quotient and the remainder when argument1 is divided by argument2\\n# enumerate()\\tTakes a collection (e.g. a tuple) and returns it as an enumerate object\\n# eval()\\tEvaluates and executes an expression\\n# exec()\\tExecutes the specified code (or object)\\n# filter()\\tUse a filter function to exclude items in an iterable object\\n# float()\\tReturns a floating point number\\n# format()\\tFormats a specified value\\n# frozenset()\\tReturns a frozenset object\\n# getattr()\\tReturns the value of the specified attribute (property or method)\\n# globals()\\tReturns the current global symbol table as a dictionary\\n# hasattr()\\tReturns True if the specified object has the specified attribute (property/method)\\n# hash()\\tReturns the hash value of a specified object\\n# help()\\tExecutes the built-in help system\\n# hex()\\tConverts a number into a hexadecimal value\\n# id()\\tReturns the id of an object\\n# input()\\tAllowing user input\\n# int()\\tReturns an integer number\\n# isinstance()\\tReturns True if a specified object is an instance of a specified object\\n# issubclass()\\tReturns True if a specified class is a subclass of a specified object\\n# iter()\\tReturns an iterator object\\n# len()\\tReturns the length of an object\\n# list()\\tReturns a list\\n# locals()\\tReturns an updated dictionary of the current local symbol table\\n# map()\\tReturns the specified iterator with the specified function applied to each item\\n# max()\\tReturns the largest item in an iterable\\n# memoryview()\\tReturns a memory view object\\n# min()\\tReturns the smallest item in an iterable\\n# next()\\tReturns the next item in an iterable\\n# object()\\tReturns a new object\\n# oct()\\tConverts a number into an octal\\n# open()\\tOpens a file and returns a file object\\n# ord()\\tConvert an integer representing the Unicode of the specified character\\n# pow()\\tReturns the value of x to the power of y\\n# print()\\tPrints to the standard output device\\n# property()\\tGets, sets, deletes a property\\n# range()\\tReturns a sequence of numbers, starting from 0 and increments by 1 (by default)\\n# repr()\\tReturns a readable version of an object\\n# reversed()\\tReturns a reversed iterator\\n# round()\\tRounds a numbers\\n# set()\\tReturns a new set object\\n# setattr()\\tSets an attribute (property/method) of an object\\n# slice()\\tReturns a slice object\\n# sorted()\\tReturns a sorted list\\n# staticmethod()\\tConverts a method into a static method\\n# str()\\tReturns a string object\\n# sum()\\tSums the items of an iterator\\n# super()\\tReturns an object that represents the parent class\\n# tuple()\\tReturns a tuple\\n# type()\\tReturns the type of an object\\n# vars()\\tReturns the __dict__ property of an object\\n# zip()\\tReturns an iterator, from two or more iterators\", 'x = abs(-7.25)', 'x = abs(-7.25)\\nprint(x)', 'x = abs(3+5j)\\nprint(x)', 'mylist = [True, True, True]\\nx = all(mylist)\\nprint(x)', 'mylist = [False, True, False]\\nx = any(mylist)\\nprint(x)', 'x = ascii(\"My name is Ståle\")\\nprint(x)', 'x = ascii(\"My name is Ståle\")  #å will be replaced with \\\\xe5\\nprint(x)', 'x = bin(36)\\nprint(x)', 'x = bin(36) #Binary of 36\\nprint(x)', 'x = bool(1)\\nprint(x)', 'x = bytearray(4)\\nprint(x)', 'x = bytes(4)\\nprint(x)', 'def x():  #returns True if the specified object is callable, otherwise it returns False\\n  a = 5\\n\\nprint(callable(x))', 'x = chr(97)\\nprint(x)', '#Converts a method into a class method\\nclass geeks:\\n    course = \\'DSA\\'\\n \\n    def purchase(obj):\\n        print(\"Purchase course : \", obj.course)\\n \\n \\ngeeks.purchase = classmethod(geeks.purchase)\\ngeeks.purchase()', \"x = compile('print(55)', 'test', 'eval')\\nexec(x)\", \"x = compile('print(55)', 'test', 'eval')  #returns the specified source as a code object, ready to be executed.\\n\\n\\nexec(x)\", \"x = compile('print(55)', 'test', 'eval')  #returns the specified source as a code object, ready to be executed.\\nexec(x)\", 'x = complex(3, 5)\\nprint(x)', 'x = complex(3, 5) #Returns complex number\\nprint(x)', 'class Person:\\n  name = \"John\"\\n  age = 36\\n  country = \"Norway\"\\n\\ndelattr(Person, \\'age\\')', 'x = dict(name = \"John\", age = 36, country = \"Norway\")\\nprint(x)', 'x = dict(name = \"John\", age = 36, country = \"Norway\") #Dictionary \\nprint(x)', 'class Person:  \\n  name = \"John\"\\n  age = 36\\n  country = \"Norway\"\\n\\nprint(dir(Person))', 'x = divmod(5, 2)\\nprint(x)', \"x = ('apple', 'banana', 'cherry')\\ny = enumerate(x)\\nprint(y)\", \"x = 'print(55)'\\neval(x)\", 'x = \\'name = \"John\"\\\\nprint(name)\\'\\nexec(x)', 'ages = [5, 12, 17, 18, 24, 32]\\n\\ndef myFunc(x):\\n  if x < 18:\\n    return False\\n  else:\\n    return True\\n\\nadults = filter(myFunc, ages)\\n\\nfor x in adults:\\n  print(x)', '# Returns an iterator where the items are filtered through a function to test if the item is accepted or not.\\nages = [5, 12, 17, 18, 24, 32]\\n\\ndef myFunc(x):\\n  if x < 1:\\n    return False\\n  else:\\n    return True\\n\\nadults = filter(myFunc, ages)\\n\\nfor x in adults:\\n  print(x)', '# Returns an iterator where the items are filtered through a function to test if the item is accepted or not.\\nages = [5, 12, 17, 18, 24, 32]\\n\\ndef myFunc(x):\\n  if x < 18:\\n    return False\\n  else:\\n    return True\\n\\nadults = filter(myFunc, ages)\\n\\nfor x in adults:\\n  print(x)', '# Returns an iterator where the items are filtered through a function to test if the item is accepted or not.\\nages = [5, 12, 17, 18, 24, 32]\\n\\ndef myFunc(x):\\n  if x < 19:\\n    return False\\n  else:\\n    return True\\n\\nadults = filter(myFunc, ages)\\n\\nfor x in adults:\\n  print(x)', '# Returns an iterator where the items are filtered through a function to test if the item is accepted or not.\\nages = [5, 12, 17, 18, 24, 32]\\n\\ndef myFunc(x):\\n  if x < 9:\\n    return False\\n  else:\\n    return True\\n\\nadults = filter(myFunc, ages)\\n\\nfor x in adults:\\n  print(x)', 'x = float(3)  # Converts to float type', 'x = float(3)  # Converts to float type\\nprint(x)', \"x = format(0.5, '%')\\nprint(x)\", \"mylist = ['apple', 'banana', 'cherry']\\nx = frozenset(mylist)\\nprint(x)\", \"# Returns an unchangeable frozenset object \\nmylist = ['apple', 'banana', 'cherry']\\nx = frozenset(mylist)\\nprint(x)\", 'class Person:\\n  name = \"John\"\\n  age = 36\\n  country = \"Norway\"\\n\\nx = getattr(Person, \\'age\\')', 'class Person:\\n  name = \"John\"\\n  age = 36\\n  country = \"Norway\"\\n\\nx = getattr(Person, \\'age\\')\\nprint(x)', 'x = globals()\\nprint(x)', 'class Person:\\n  name = \"John\"\\n  age = 36\\n  country = \"Norway\"\\n\\nx = hasattr(Person, \\'age\\')\\nprint(x)', 'hash(5)', 'hash(5000)', 'hash(3242423sdfffd d)', 'hash(3242423)', 'help(int)', 'x = hex(255)\\nprint(x)', \"x = ('apple', 'banana', 'cherry')\\ny = id(x)\", \"x = ('apple', 'banana', 'cherry')\\ny = id(x)\\n\\nprint(y)\", \"print('Enter your name:')\\nx = input()\\nprint('Hello, ' + x)\", 'x = int(3.5)', 'x = int(3.5)\\nprint(x)', 'x = isinstance(5, int)', 'x = isinstance(5, int)\\nprint(x)', '#Returns True if the specified object is of the specified type, otherwise False.\\nx = isinstance(5, int)\\nprint(x)', 'class myAge:\\n  age = 36\\n\\nclass myObj(myAge):\\n  name = \"John\"\\n  age = myAge\\n\\nx = issubclass(myObj, myAge)', 'class myAge:\\n  age = 36\\n\\nclass myObj(myAge):\\n  name = \"John\"\\n  age = myAge\\n\\nx = issubclass(myObj, myAge)\\n\\nprint(x)', '#Returns True if the specified object is a subclass of the specified object, otherwise False.\\n\\nclass myAge:\\n  age = 36\\n\\nclass myObj(myAge):\\n  name = \"John\"\\n  age = myAge\\n\\nx = issubclass(myObj, myAge)\\n\\nprint(x)', 'x = iter([\"apple\", \"banana\", \"cherry\"])\\nprint(next(x))\\nprint(next(x))\\nprint(next(x))', 'mylist = [\"apple\", \"banana\", \"cherry\"]\\nx = len(mylist)', 'mylist = [\"apple\", \"banana\", \"cherry\"]\\nx = len(mylist)\\nprint(x)', \"x = list(('apple', 'banana', 'cherry'))  #Creats a list\\nprint(x)\", 'x = locals()\\nprint(x)'], '_oh': {44: 5, 45: 5000, 47: 3242423}, '_dh': [WindowsPath('C:/Users/parth/pythonwork')], 'In': ['', \"#Python built-in function\\n\\n# Function\\tDescription\\n\\n# abs()\\tReturns the absolute value of a number\\n# all()\\tReturns True if all items in an iterable object are true\\n# any()\\tReturns True if any item in an iterable object is true\\n# ascii()\\tReturns a readable version of an object. Replaces none-ascii characters with escape character\\n# bin()\\tReturns the binary version of a number\\n# bool()\\tReturns the boolean value of the specified object\\n# bytearray()\\tReturns an array of bytes\\n# bytes()\\tReturns a bytes object\\n# callable()\\tReturns True if the specified object is callable, otherwise False\\n# chr()\\tReturns a character from the specified Unicode code.\\n# classmethod()\\tConverts a method into a class method\\n# compile()\\tReturns the specified source as an object, ready to be executed\\n# complex()\\tReturns a complex number\\n# delattr()\\tDeletes the specified attribute (property or method) from the specified object\\n# dict()\\tReturns a dictionary (Array)\\n# dir()\\tReturns a list of the specified object's properties and methods\\n# divmod()\\tReturns the quotient and the remainder when argument1 is divided by argument2\\n# enumerate()\\tTakes a collection (e.g. a tuple) and returns it as an enumerate object\\n# eval()\\tEvaluates and executes an expression\\n# exec()\\tExecutes the specified code (or object)\\n# filter()\\tUse a filter function to exclude items in an iterable object\\n# float()\\tReturns a floating point number\\n# format()\\tFormats a specified value\\n# frozenset()\\tReturns a frozenset object\\n# getattr()\\tReturns the value of the specified attribute (property or method)\\n# globals()\\tReturns the current global symbol table as a dictionary\\n# hasattr()\\tReturns True if the specified object has the specified attribute (property/method)\\n# hash()\\tReturns the hash value of a specified object\\n# help()\\tExecutes the built-in help system\\n# hex()\\tConverts a number into a hexadecimal value\\n# id()\\tReturns the id of an object\\n# input()\\tAllowing user input\\n# int()\\tReturns an integer number\\n# isinstance()\\tReturns True if a specified object is an instance of a specified object\\n# issubclass()\\tReturns True if a specified class is a subclass of a specified object\\n# iter()\\tReturns an iterator object\\n# len()\\tReturns the length of an object\\n# list()\\tReturns a list\\n# locals()\\tReturns an updated dictionary of the current local symbol table\\n# map()\\tReturns the specified iterator with the specified function applied to each item\\n# max()\\tReturns the largest item in an iterable\\n# memoryview()\\tReturns a memory view object\\n# min()\\tReturns the smallest item in an iterable\\n# next()\\tReturns the next item in an iterable\\n# object()\\tReturns a new object\\n# oct()\\tConverts a number into an octal\\n# open()\\tOpens a file and returns a file object\\n# ord()\\tConvert an integer representing the Unicode of the specified character\\n# pow()\\tReturns the value of x to the power of y\\n# print()\\tPrints to the standard output device\\n# property()\\tGets, sets, deletes a property\\n# range()\\tReturns a sequence of numbers, starting from 0 and increments by 1 (by default)\\n# repr()\\tReturns a readable version of an object\\n# reversed()\\tReturns a reversed iterator\\n# round()\\tRounds a numbers\\n# set()\\tReturns a new set object\\n# setattr()\\tSets an attribute (property/method) of an object\\n# slice()\\tReturns a slice object\\n# sorted()\\tReturns a sorted list\\n# staticmethod()\\tConverts a method into a static method\\n# str()\\tReturns a string object\\n# sum()\\tSums the items of an iterator\\n# super()\\tReturns an object that represents the parent class\\n# tuple()\\tReturns a tuple\\n# type()\\tReturns the type of an object\\n# vars()\\tReturns the __dict__ property of an object\\n# zip()\\tReturns an iterator, from two or more iterators\", 'x = abs(-7.25)', 'x = abs(-7.25)\\nprint(x)', 'x = abs(3+5j)\\nprint(x)', 'mylist = [True, True, True]\\nx = all(mylist)\\nprint(x)', 'mylist = [False, True, False]\\nx = any(mylist)\\nprint(x)', 'x = ascii(\"My name is Ståle\")\\nprint(x)', 'x = ascii(\"My name is Ståle\")  #å will be replaced with \\\\xe5\\nprint(x)', 'x = bin(36)\\nprint(x)', 'x = bin(36) #Binary of 36\\nprint(x)', 'x = bool(1)\\nprint(x)', 'x = bytearray(4)\\nprint(x)', 'x = bytes(4)\\nprint(x)', 'def x():  #returns True if the specified object is callable, otherwise it returns False\\n  a = 5\\n\\nprint(callable(x))', 'x = chr(97)\\nprint(x)', '#Converts a method into a class method\\nclass geeks:\\n    course = \\'DSA\\'\\n \\n    def purchase(obj):\\n        print(\"Purchase course : \", obj.course)\\n \\n \\ngeeks.purchase = classmethod(geeks.purchase)\\ngeeks.purchase()', \"x = compile('print(55)', 'test', 'eval')\\nexec(x)\", \"x = compile('print(55)', 'test', 'eval')  #returns the specified source as a code object, ready to be executed.\\n\\n\\nexec(x)\", \"x = compile('print(55)', 'test', 'eval')  #returns the specified source as a code object, ready to be executed.\\nexec(x)\", 'x = complex(3, 5)\\nprint(x)', 'x = complex(3, 5) #Returns complex number\\nprint(x)', 'class Person:\\n  name = \"John\"\\n  age = 36\\n  country = \"Norway\"\\n\\ndelattr(Person, \\'age\\')', 'x = dict(name = \"John\", age = 36, country = \"Norway\")\\nprint(x)', 'x = dict(name = \"John\", age = 36, country = \"Norway\") #Dictionary \\nprint(x)', 'class Person:  \\n  name = \"John\"\\n  age = 36\\n  country = \"Norway\"\\n\\nprint(dir(Person))', 'x = divmod(5, 2)\\nprint(x)', \"x = ('apple', 'banana', 'cherry')\\ny = enumerate(x)\\nprint(y)\", \"x = 'print(55)'\\neval(x)\", 'x = \\'name = \"John\"\\\\nprint(name)\\'\\nexec(x)', 'ages = [5, 12, 17, 18, 24, 32]\\n\\ndef myFunc(x):\\n  if x < 18:\\n    return False\\n  else:\\n    return True\\n\\nadults = filter(myFunc, ages)\\n\\nfor x in adults:\\n  print(x)', '# Returns an iterator where the items are filtered through a function to test if the item is accepted or not.\\nages = [5, 12, 17, 18, 24, 32]\\n\\ndef myFunc(x):\\n  if x < 1:\\n    return False\\n  else:\\n    return True\\n\\nadults = filter(myFunc, ages)\\n\\nfor x in adults:\\n  print(x)', '# Returns an iterator where the items are filtered through a function to test if the item is accepted or not.\\nages = [5, 12, 17, 18, 24, 32]\\n\\ndef myFunc(x):\\n  if x < 18:\\n    return False\\n  else:\\n    return True\\n\\nadults = filter(myFunc, ages)\\n\\nfor x in adults:\\n  print(x)', '# Returns an iterator where the items are filtered through a function to test if the item is accepted or not.\\nages = [5, 12, 17, 18, 24, 32]\\n\\ndef myFunc(x):\\n  if x < 19:\\n    return False\\n  else:\\n    return True\\n\\nadults = filter(myFunc, ages)\\n\\nfor x in adults:\\n  print(x)', '# Returns an iterator where the items are filtered through a function to test if the item is accepted or not.\\nages = [5, 12, 17, 18, 24, 32]\\n\\ndef myFunc(x):\\n  if x < 9:\\n    return False\\n  else:\\n    return True\\n\\nadults = filter(myFunc, ages)\\n\\nfor x in adults:\\n  print(x)', 'x = float(3)  # Converts to float type', 'x = float(3)  # Converts to float type\\nprint(x)', \"x = format(0.5, '%')\\nprint(x)\", \"mylist = ['apple', 'banana', 'cherry']\\nx = frozenset(mylist)\\nprint(x)\", \"# Returns an unchangeable frozenset object \\nmylist = ['apple', 'banana', 'cherry']\\nx = frozenset(mylist)\\nprint(x)\", 'class Person:\\n  name = \"John\"\\n  age = 36\\n  country = \"Norway\"\\n\\nx = getattr(Person, \\'age\\')', 'class Person:\\n  name = \"John\"\\n  age = 36\\n  country = \"Norway\"\\n\\nx = getattr(Person, \\'age\\')\\nprint(x)', 'x = globals()\\nprint(x)', 'class Person:\\n  name = \"John\"\\n  age = 36\\n  country = \"Norway\"\\n\\nx = hasattr(Person, \\'age\\')\\nprint(x)', 'hash(5)', 'hash(5000)', 'hash(3242423sdfffd d)', 'hash(3242423)', 'help(int)', 'x = hex(255)\\nprint(x)', \"x = ('apple', 'banana', 'cherry')\\ny = id(x)\", \"x = ('apple', 'banana', 'cherry')\\ny = id(x)\\n\\nprint(y)\", \"print('Enter your name:')\\nx = input()\\nprint('Hello, ' + x)\", 'x = int(3.5)', 'x = int(3.5)\\nprint(x)', 'x = isinstance(5, int)', 'x = isinstance(5, int)\\nprint(x)', '#Returns True if the specified object is of the specified type, otherwise False.\\nx = isinstance(5, int)\\nprint(x)', 'class myAge:\\n  age = 36\\n\\nclass myObj(myAge):\\n  name = \"John\"\\n  age = myAge\\n\\nx = issubclass(myObj, myAge)', 'class myAge:\\n  age = 36\\n\\nclass myObj(myAge):\\n  name = \"John\"\\n  age = myAge\\n\\nx = issubclass(myObj, myAge)\\n\\nprint(x)', '#Returns True if the specified object is a subclass of the specified object, otherwise False.\\n\\nclass myAge:\\n  age = 36\\n\\nclass myObj(myAge):\\n  name = \"John\"\\n  age = myAge\\n\\nx = issubclass(myObj, myAge)\\n\\nprint(x)', 'x = iter([\"apple\", \"banana\", \"cherry\"])\\nprint(next(x))\\nprint(next(x))\\nprint(next(x))', 'mylist = [\"apple\", \"banana\", \"cherry\"]\\nx = len(mylist)', 'mylist = [\"apple\", \"banana\", \"cherry\"]\\nx = len(mylist)\\nprint(x)', \"x = list(('apple', 'banana', 'cherry'))  #Creats a list\\nprint(x)\", 'x = locals()\\nprint(x)'], 'Out': {44: 5, 45: 5000, 47: 3242423}, 'get_ipython': <bound method InteractiveShell.get_ipython of <ipykernel.zmqshell.ZMQInteractiveShell object at 0x000002CDD11E9310>>, 'exit': <IPython.core.autocall.ZMQExitAutocall object at 0x000002CDD12149D0>, 'quit': <IPython.core.autocall.ZMQExitAutocall object at 0x000002CDD12149D0>, 'open': <function open at 0x000002CDCF187A60>, '_': 3242423, '__': 5000, '___': 5, '_i': \"x = list(('apple', 'banana', 'cherry'))  #Creats a list\\nprint(x)\", '_ii': 'mylist = [\"apple\", \"banana\", \"cherry\"]\\nx = len(mylist)\\nprint(x)', '_iii': 'mylist = [\"apple\", \"banana\", \"cherry\"]\\nx = len(mylist)', '_i1': \"#Python built-in function\\n\\n# Function\\tDescription\\n\\n# abs()\\tReturns the absolute value of a number\\n# all()\\tReturns True if all items in an iterable object are true\\n# any()\\tReturns True if any item in an iterable object is true\\n# ascii()\\tReturns a readable version of an object. Replaces none-ascii characters with escape character\\n# bin()\\tReturns the binary version of a number\\n# bool()\\tReturns the boolean value of the specified object\\n# bytearray()\\tReturns an array of bytes\\n# bytes()\\tReturns a bytes object\\n# callable()\\tReturns True if the specified object is callable, otherwise False\\n# chr()\\tReturns a character from the specified Unicode code.\\n# classmethod()\\tConverts a method into a class method\\n# compile()\\tReturns the specified source as an object, ready to be executed\\n# complex()\\tReturns a complex number\\n# delattr()\\tDeletes the specified attribute (property or method) from the specified object\\n# dict()\\tReturns a dictionary (Array)\\n# dir()\\tReturns a list of the specified object's properties and methods\\n# divmod()\\tReturns the quotient and the remainder when argument1 is divided by argument2\\n# enumerate()\\tTakes a collection (e.g. a tuple) and returns it as an enumerate object\\n# eval()\\tEvaluates and executes an expression\\n# exec()\\tExecutes the specified code (or object)\\n# filter()\\tUse a filter function to exclude items in an iterable object\\n# float()\\tReturns a floating point number\\n# format()\\tFormats a specified value\\n# frozenset()\\tReturns a frozenset object\\n# getattr()\\tReturns the value of the specified attribute (property or method)\\n# globals()\\tReturns the current global symbol table as a dictionary\\n# hasattr()\\tReturns True if the specified object has the specified attribute (property/method)\\n# hash()\\tReturns the hash value of a specified object\\n# help()\\tExecutes the built-in help system\\n# hex()\\tConverts a number into a hexadecimal value\\n# id()\\tReturns the id of an object\\n# input()\\tAllowing user input\\n# int()\\tReturns an integer number\\n# isinstance()\\tReturns True if a specified object is an instance of a specified object\\n# issubclass()\\tReturns True if a specified class is a subclass of a specified object\\n# iter()\\tReturns an iterator object\\n# len()\\tReturns the length of an object\\n# list()\\tReturns a list\\n# locals()\\tReturns an updated dictionary of the current local symbol table\\n# map()\\tReturns the specified iterator with the specified function applied to each item\\n# max()\\tReturns the largest item in an iterable\\n# memoryview()\\tReturns a memory view object\\n# min()\\tReturns the smallest item in an iterable\\n# next()\\tReturns the next item in an iterable\\n# object()\\tReturns a new object\\n# oct()\\tConverts a number into an octal\\n# open()\\tOpens a file and returns a file object\\n# ord()\\tConvert an integer representing the Unicode of the specified character\\n# pow()\\tReturns the value of x to the power of y\\n# print()\\tPrints to the standard output device\\n# property()\\tGets, sets, deletes a property\\n# range()\\tReturns a sequence of numbers, starting from 0 and increments by 1 (by default)\\n# repr()\\tReturns a readable version of an object\\n# reversed()\\tReturns a reversed iterator\\n# round()\\tRounds a numbers\\n# set()\\tReturns a new set object\\n# setattr()\\tSets an attribute (property/method) of an object\\n# slice()\\tReturns a slice object\\n# sorted()\\tReturns a sorted list\\n# staticmethod()\\tConverts a method into a static method\\n# str()\\tReturns a string object\\n# sum()\\tSums the items of an iterator\\n# super()\\tReturns an object that represents the parent class\\n# tuple()\\tReturns a tuple\\n# type()\\tReturns the type of an object\\n# vars()\\tReturns the __dict__ property of an object\\n# zip()\\tReturns an iterator, from two or more iterators\", '_i2': 'x = abs(-7.25)', 'x': {...}, '_i3': 'x = abs(-7.25)\\nprint(x)', '_i4': 'x = abs(3+5j)\\nprint(x)', '_i5': 'mylist = [True, True, True]\\nx = all(mylist)\\nprint(x)', 'mylist': ['apple', 'banana', 'cherry'], '_i6': 'mylist = [False, True, False]\\nx = any(mylist)\\nprint(x)', '_i7': 'x = ascii(\"My name is Ståle\")\\nprint(x)', '_i8': 'x = ascii(\"My name is Ståle\")  #å will be replaced with \\\\xe5\\nprint(x)', '_i9': 'x = bin(36)\\nprint(x)', '_i10': 'x = bin(36) #Binary of 36\\nprint(x)', '_i11': 'x = bool(1)\\nprint(x)', '_i12': 'x = bytearray(4)\\nprint(x)', '_i13': 'x = bytes(4)\\nprint(x)', '_i14': 'def x():  #returns True if the specified object is callable, otherwise it returns False\\n  a = 5\\n\\nprint(callable(x))', '_i15': 'x = chr(97)\\nprint(x)', '_i16': '#Converts a method into a class method\\nclass geeks:\\n    course = \\'DSA\\'\\n \\n    def purchase(obj):\\n        print(\"Purchase course : \", obj.course)\\n \\n \\ngeeks.purchase = classmethod(geeks.purchase)\\ngeeks.purchase()', 'geeks': <class '__main__.geeks'>, '_i17': \"x = compile('print(55)', 'test', 'eval')\\nexec(x)\", '_i18': \"x = compile('print(55)', 'test', 'eval')  #returns the specified source as a code object, ready to be executed.\\n\\n\\nexec(x)\", '_i19': \"x = compile('print(55)', 'test', 'eval')  #returns the specified source as a code object, ready to be executed.\\nexec(x)\", '_i20': 'x = complex(3, 5)\\nprint(x)', '_i21': 'x = complex(3, 5) #Returns complex number\\nprint(x)', '_i22': 'class Person:\\n  name = \"John\"\\n  age = 36\\n  country = \"Norway\"\\n\\ndelattr(Person, \\'age\\')', 'Person': <class '__main__.Person'>, '_i23': 'x = dict(name = \"John\", age = 36, country = \"Norway\")\\nprint(x)', '_i24': 'x = dict(name = \"John\", age = 36, country = \"Norway\") #Dictionary \\nprint(x)', '_i25': 'class Person:  \\n  name = \"John\"\\n  age = 36\\n  country = \"Norway\"\\n\\nprint(dir(Person))', '_i26': 'x = divmod(5, 2)\\nprint(x)', '_i27': \"x = ('apple', 'banana', 'cherry')\\ny = enumerate(x)\\nprint(y)\", 'y': 3083000180800, '_i28': \"x = 'print(55)'\\neval(x)\", '_i29': 'x = \\'name = \"John\"\\\\nprint(name)\\'\\nexec(x)', 'name': 'John', '_i30': 'ages = [5, 12, 17, 18, 24, 32]\\n\\ndef myFunc(x):\\n  if x < 18:\\n    return False\\n  else:\\n    return True\\n\\nadults = filter(myFunc, ages)\\n\\nfor x in adults:\\n  print(x)', 'ages': [5, 12, 17, 18, 24, 32], 'myFunc': <function myFunc at 0x000002CDD12A00E0>, 'adults': <filter object at 0x000002CDD1222E90>, '_i31': '# Returns an iterator where the items are filtered through a function to test if the item is accepted or not.\\nages = [5, 12, 17, 18, 24, 32]\\n\\ndef myFunc(x):\\n  if x < 1:\\n    return False\\n  else:\\n    return True\\n\\nadults = filter(myFunc, ages)\\n\\nfor x in adults:\\n  print(x)', '_i32': '# Returns an iterator where the items are filtered through a function to test if the item is accepted or not.\\nages = [5, 12, 17, 18, 24, 32]\\n\\ndef myFunc(x):\\n  if x < 18:\\n    return False\\n  else:\\n    return True\\n\\nadults = filter(myFunc, ages)\\n\\nfor x in adults:\\n  print(x)', '_i33': '# Returns an iterator where the items are filtered through a function to test if the item is accepted or not.\\nages = [5, 12, 17, 18, 24, 32]\\n\\ndef myFunc(x):\\n  if x < 19:\\n    return False\\n  else:\\n    return True\\n\\nadults = filter(myFunc, ages)\\n\\nfor x in adults:\\n  print(x)', '_i34': '# Returns an iterator where the items are filtered through a function to test if the item is accepted or not.\\nages = [5, 12, 17, 18, 24, 32]\\n\\ndef myFunc(x):\\n  if x < 9:\\n    return False\\n  else:\\n    return True\\n\\nadults = filter(myFunc, ages)\\n\\nfor x in adults:\\n  print(x)', '_i35': 'x = float(3)  # Converts to float type', '_i36': 'x = float(3)  # Converts to float type\\nprint(x)', '_i37': \"x = format(0.5, '%')\\nprint(x)\", '_i38': \"mylist = ['apple', 'banana', 'cherry']\\nx = frozenset(mylist)\\nprint(x)\", '_i39': \"# Returns an unchangeable frozenset object \\nmylist = ['apple', 'banana', 'cherry']\\nx = frozenset(mylist)\\nprint(x)\", '_i40': 'class Person:\\n  name = \"John\"\\n  age = 36\\n  country = \"Norway\"\\n\\nx = getattr(Person, \\'age\\')', '_i41': 'class Person:\\n  name = \"John\"\\n  age = 36\\n  country = \"Norway\"\\n\\nx = getattr(Person, \\'age\\')\\nprint(x)', '_i42': 'x = globals()\\nprint(x)', '_i43': 'class Person:\\n  name = \"John\"\\n  age = 36\\n  country = \"Norway\"\\n\\nx = hasattr(Person, \\'age\\')\\nprint(x)', '_i44': 'hash(5)', '_44': 5, '_i45': 'hash(5000)', '_45': 5000, '_i46': 'hash(3242423sdfffd d)', '_i47': 'hash(3242423)', '_47': 3242423, '_i48': 'help(int)', '_i49': 'x = hex(255)\\nprint(x)', '_i50': \"x = ('apple', 'banana', 'cherry')\\ny = id(x)\", '_i51': \"x = ('apple', 'banana', 'cherry')\\ny = id(x)\\n\\nprint(y)\", '_i52': \"print('Enter your name:')\\nx = input()\\nprint('Hello, ' + x)\", '_i53': 'x = int(3.5)', '_i54': 'x = int(3.5)\\nprint(x)', '_i55': 'x = isinstance(5, int)', '_i56': 'x = isinstance(5, int)\\nprint(x)', '_i57': '#Returns True if the specified object is of the specified type, otherwise False.\\nx = isinstance(5, int)\\nprint(x)', '_i58': 'class myAge:\\n  age = 36\\n\\nclass myObj(myAge):\\n  name = \"John\"\\n  age = myAge\\n\\nx = issubclass(myObj, myAge)', 'myAge': <class '__main__.myAge'>, 'myObj': <class '__main__.myObj'>, '_i59': 'class myAge:\\n  age = 36\\n\\nclass myObj(myAge):\\n  name = \"John\"\\n  age = myAge\\n\\nx = issubclass(myObj, myAge)\\n\\nprint(x)', '_i60': '#Returns True if the specified object is a subclass of the specified object, otherwise False.\\n\\nclass myAge:\\n  age = 36\\n\\nclass myObj(myAge):\\n  name = \"John\"\\n  age = myAge\\n\\nx = issubclass(myObj, myAge)\\n\\nprint(x)', '_i61': '\\nx = iter([\"apple\", \"banana\", \"cherry\"])\\nprint(next(x))\\nprint(next(x))\\nprint(next(x))', '_i62': 'mylist = [\"apple\", \"banana\", \"cherry\"]\\nx = len(mylist)', '_i63': 'mylist = [\"apple\", \"banana\", \"cherry\"]\\nx = len(mylist)\\nprint(x)', '_i64': \"x = list(('apple', 'banana', 'cherry'))  #Creats a list\\nprint(x)\", '_i65': 'x = locals()\\nprint(x)'}\n"
     ]
    }
   ],
   "source": [
    "x = locals()  #Returns local symbol table as a dictionay\n",
    "print(x)"
   ]
  },
  {
   "cell_type": "code",
   "execution_count": 68,
   "id": "14104ff6",
   "metadata": {},
   "outputs": [
    {
     "name": "stdout",
     "output_type": "stream",
     "text": [
      "[5, 6, 6]\n"
     ]
    }
   ],
   "source": [
    "# executes a specified function for each item in an iterable. The item is sent to the function as a parameter.\n",
    "\n",
    "\n",
    "def myfunc(n):\n",
    "  return len(n)\n",
    "\n",
    "x = map(myfunc, ('apple', 'banana', 'cherry'))\n",
    "\n",
    "x_list = list(x)\n",
    "print(x_list)"
   ]
  },
  {
   "cell_type": "code",
   "execution_count": 70,
   "id": "920e8274",
   "metadata": {},
   "outputs": [
    {
     "name": "stdout",
     "output_type": "stream",
     "text": [
      "10\n"
     ]
    }
   ],
   "source": [
    "x = max(5, 10)   #Maximum value\n",
    "print(x)"
   ]
  },
  {
   "cell_type": "code",
   "execution_count": 71,
   "id": "ce97bcc7",
   "metadata": {},
   "outputs": [
    {
     "name": "stdout",
     "output_type": "stream",
     "text": [
      "<memory at 0x000002CDD11AAC80>\n",
      "72\n",
      "101\n"
     ]
    }
   ],
   "source": [
    "x = memoryview(b\"Hello\")  #Returns a memory view object from a specified object\n",
    "\n",
    "print(x)\n",
    "\n",
    "#return the Unicode of the first character\n",
    "print(x[0])\n",
    "\n",
    "#return the Unicode of the second character\n",
    "print(x[1])"
   ]
  },
  {
   "cell_type": "code",
   "execution_count": 72,
   "id": "606469cc",
   "metadata": {},
   "outputs": [
    {
     "name": "stdout",
     "output_type": "stream",
     "text": [
      "5\n"
     ]
    }
   ],
   "source": [
    "x = min(5, 10)  #minimum value\n",
    "print(x)"
   ]
  },
  {
   "cell_type": "code",
   "execution_count": 73,
   "id": "a741e8e2",
   "metadata": {},
   "outputs": [
    {
     "name": "stdout",
     "output_type": "stream",
     "text": [
      "apple\n",
      "banana\n",
      "cherry\n"
     ]
    }
   ],
   "source": [
    "# Returns the next item in an iterator\n",
    "\n",
    "mylist = iter([\"apple\", \"banana\", \"cherry\"])\n",
    "x = next(mylist)\n",
    "print(x)\n",
    "x = next(mylist)\n",
    "print(x)\n",
    "x = next(mylist)\n",
    "print(x)"
   ]
  },
  {
   "cell_type": "code",
   "execution_count": 74,
   "id": "9e4bd4a5",
   "metadata": {},
   "outputs": [
    {
     "name": "stdout",
     "output_type": "stream",
     "text": [
      "<object object at 0x000002CDD10814C0>\n"
     ]
    }
   ],
   "source": [
    "x = object()     #Creates an empty object\n",
    "print(x)"
   ]
  },
  {
   "cell_type": "code",
   "execution_count": 75,
   "id": "fc868c07",
   "metadata": {},
   "outputs": [
    {
     "name": "stdout",
     "output_type": "stream",
     "text": [
      "0o14\n"
     ]
    }
   ],
   "source": [
    "x = oct(12)  #Octal number\n",
    "print(x)"
   ]
  },
  {
   "cell_type": "code",
   "execution_count": 76,
   "id": "a39168c8",
   "metadata": {},
   "outputs": [
    {
     "name": "stdout",
     "output_type": "stream",
     "text": [
      "Hello! Welcome to demofile.txt\n",
      "\n",
      "This file is for testing purposes.\n",
      "\n",
      "Good Luck!\n"
     ]
    }
   ],
   "source": [
    "f = open(\"demofile.txt\", \"r\")  #Opens a file and returns as a file object\n",
    "print(f.read())"
   ]
  },
  {
   "cell_type": "code",
   "execution_count": 78,
   "id": "293f0760",
   "metadata": {},
   "outputs": [
    {
     "name": "stdout",
     "output_type": "stream",
     "text": [
      "104\n"
     ]
    }
   ],
   "source": [
    "x = ord(\"h\")  #Returns the number representing the unicode code of a specified character\n",
    "print(x)"
   ]
  },
  {
   "cell_type": "code",
   "execution_count": 79,
   "id": "fa7f6d90",
   "metadata": {},
   "outputs": [
    {
     "name": "stdout",
     "output_type": "stream",
     "text": [
      "64\n"
     ]
    }
   ],
   "source": [
    "x = pow(4, 3) # Power\n",
    "print(x)"
   ]
  },
  {
   "cell_type": "code",
   "execution_count": 80,
   "id": "99bb8449",
   "metadata": {},
   "outputs": [
    {
     "name": "stdout",
     "output_type": "stream",
     "text": [
      "3.5\n"
     ]
    }
   ],
   "source": [
    "x = str(3.5) # Converts to string\n",
    "print(x)"
   ]
  },
  {
   "cell_type": "code",
   "execution_count": 81,
   "id": "8dad3f16",
   "metadata": {},
   "outputs": [
    {
     "name": "stdout",
     "output_type": "stream",
     "text": [
      "15\n"
     ]
    }
   ],
   "source": [
    "a = (1, 2, 3, 4, 5) #summation\n",
    "x = sum(a)\n",
    "print(x)"
   ]
  },
  {
   "cell_type": "code",
   "execution_count": 82,
   "id": "847c3300",
   "metadata": {},
   "outputs": [
    {
     "name": "stdout",
     "output_type": "stream",
     "text": [
      "Hello, and welcome!\n"
     ]
    }
   ],
   "source": [
    "#Access to methods and properties of a parent or sibling class\n",
    "\n",
    "class Parent: \n",
    "  def __init__(self, txt):\n",
    "    self.message = txt\n",
    "\n",
    "  def printmessage(self):\n",
    "    print(self.message)\n",
    "\n",
    "class Child(Parent):\n",
    "  def __init__(self, txt):\n",
    "    super().__init__(txt)\n",
    "\n",
    "x = Child(\"Hello, and welcome!\")\n",
    "\n",
    "x.printmessage()\n"
   ]
  },
  {
   "cell_type": "code",
   "execution_count": 83,
   "id": "084a96f9",
   "metadata": {},
   "outputs": [
    {
     "name": "stdout",
     "output_type": "stream",
     "text": [
      "('apple', 'banana', 'cherry')\n"
     ]
    }
   ],
   "source": [
    "x = tuple(('apple', 'banana', 'cherry')) #Creates a tuple\n",
    "print(x)"
   ]
  },
  {
   "cell_type": "code",
   "execution_count": 85,
   "id": "e70a7cae",
   "metadata": {},
   "outputs": [
    {
     "name": "stdout",
     "output_type": "stream",
     "text": [
      "<class 'tuple'> <class 'str'> <class 'int'>\n"
     ]
    }
   ],
   "source": [
    "a = ('apple', 'banana', 'cherry')   # Type of an object\n",
    "b = \"Hello World\"\n",
    "c = 33\n",
    "\n",
    "x = type(a)\n",
    "y = type(b)\n",
    "z = type(c)\n",
    "\n",
    "print(x, y, z)"
   ]
  },
  {
   "cell_type": "code",
   "execution_count": 87,
   "id": "880e11d4",
   "metadata": {},
   "outputs": [
    {
     "name": "stdout",
     "output_type": "stream",
     "text": [
      "{'__module__': '__main__', 'name': 'John', 'age': 36, 'country': 'norway', '__dict__': <attribute '__dict__' of 'Person' objects>, '__weakref__': <attribute '__weakref__' of 'Person' objects>, '__doc__': None}\n"
     ]
    }
   ],
   "source": [
    "# Returns the __dict__ attribute of an object\n",
    "\n",
    "class Person:\n",
    "  name = \"John\"\n",
    "  age = 36\n",
    "  country = \"norway\"\n",
    "\n",
    "x = vars(Person)\n",
    "\n",
    "print(x)"
   ]
  },
  {
   "cell_type": "code",
   "execution_count": 89,
   "id": "651739c7",
   "metadata": {},
   "outputs": [
    {
     "name": "stdout",
     "output_type": "stream",
     "text": [
      "[('John', 'Jenny'), ('Charles', 'Christy'), ('Mike', 'Monica')]\n"
     ]
    }
   ],
   "source": [
    "# Eeturns a zip object, which is an iterator of tuples where the first item in each passed iterator is paired together, and then the second item in each passed iterator are paired together etc\n",
    "\n",
    "a = (\"John\", \"Charles\", \"Mike\")\n",
    "b = (\"Jenny\", \"Christy\", \"Monica\")\n",
    "\n",
    "x = zip(a, b)\n",
    "print(list(x))"
   ]
  },
  {
   "cell_type": "code",
   "execution_count": 90,
   "id": "d2207848",
   "metadata": {},
   "outputs": [
    {
     "name": "stdout",
     "output_type": "stream",
     "text": [
      "0\n",
      "1\n",
      "2\n",
      "3\n",
      "4\n",
      "5\n"
     ]
    }
   ],
   "source": [
    "x = range(6)    #Returns a sequence of numbers, starting from 0 by default\n",
    "for n in x:\n",
    "  print(n)"
   ]
  },
  {
   "cell_type": "code",
   "execution_count": 91,
   "id": "c7373a0e",
   "metadata": {},
   "outputs": [
    {
     "name": "stdout",
     "output_type": "stream",
     "text": [
      "d\n",
      "c\n",
      "b\n",
      "a\n"
     ]
    }
   ],
   "source": [
    "alph = [\"a\", \"b\", \"c\", \"d\"]  # Returns a reversed iterator object\n",
    "ralph = reversed(alph)\n",
    "for x in ralph:\n",
    "  print(x)"
   ]
  },
  {
   "cell_type": "code",
   "execution_count": 92,
   "id": "50dbaffb",
   "metadata": {},
   "outputs": [
    {
     "name": "stdout",
     "output_type": "stream",
     "text": [
      "5.77\n"
     ]
    }
   ],
   "source": [
    "x = round(5.76543, 2)   #Round off upto decimal digits\n",
    "print(x)\n",
    "        "
   ]
  },
  {
   "cell_type": "code",
   "execution_count": 93,
   "id": "35787ba0",
   "metadata": {},
   "outputs": [
    {
     "name": "stdout",
     "output_type": "stream",
     "text": [
      "{'banana', 'apple', 'cherry'}\n"
     ]
    }
   ],
   "source": [
    "x = set(('apple', 'banana', 'cherry'))  # Creates a set\n",
    "print(x)"
   ]
  },
  {
   "cell_type": "code",
   "execution_count": 96,
   "id": "a68afb8d",
   "metadata": {},
   "outputs": [
    {
     "name": "stdout",
     "output_type": "stream",
     "text": [
      "40\n"
     ]
    }
   ],
   "source": [
    "class Person:  # Sets the value of the specified attribute of the specified object\n",
    "  name = \"John\"\n",
    "  age = 36\n",
    "  country = \"Norway\"\n",
    "\n",
    "setattr(Person, 'age', 40)\n",
    "\n",
    "print(Person.age)"
   ]
  },
  {
   "cell_type": "code",
   "execution_count": 97,
   "id": "1ae0f44a",
   "metadata": {},
   "outputs": [
    {
     "name": "stdout",
     "output_type": "stream",
     "text": [
      "('a', 'b')\n"
     ]
    }
   ],
   "source": [
    "# A slice object is used to specify how to slice a sequence\n",
    "a = (\"a\", \"b\", \"c\", \"d\", \"e\", \"f\", \"g\", \"h\")\n",
    "x = slice(2)\n",
    "print(a[x])"
   ]
  },
  {
   "cell_type": "code",
   "execution_count": 98,
   "id": "58f4e2bf",
   "metadata": {},
   "outputs": [
    {
     "name": "stdout",
     "output_type": "stream",
     "text": [
      "['a', 'b', 'c', 'd', 'e', 'f', 'g', 'h']\n"
     ]
    }
   ],
   "source": [
    "a = (\"b\", \"g\", \"a\", \"d\", \"f\", \"c\", \"h\", \"e\")  # Sorting\n",
    "x = sorted(a)\n",
    "print(x)"
   ]
  },
  {
   "cell_type": "code",
   "execution_count": 100,
   "id": "6feeb4dd",
   "metadata": {},
   "outputs": [
    {
     "name": "stdout",
     "output_type": "stream",
     "text": [
      "8\n",
      "30\n"
     ]
    }
   ],
   "source": [
    "class MyClass:\n",
    "    @staticmethod\n",
    "    def my_static_method(arg1, arg2):\n",
    "        return arg1 + arg2\n",
    "\n",
    "result = MyClass.my_static_method(3, 5)\n",
    "print(result)  \n",
    "\n",
    "my_instance = MyClass()\n",
    "result_instance = my_instance.my_static_method(10, 20)\n",
    "print(result_instance)  "
   ]
  },
  {
   "cell_type": "code",
   "execution_count": null,
   "id": "ff788270",
   "metadata": {},
   "outputs": [],
   "source": []
  }
 ],
 "metadata": {
  "kernelspec": {
   "display_name": "Python 3 (ipykernel)",
   "language": "python",
   "name": "python3"
  },
  "language_info": {
   "codemirror_mode": {
    "name": "ipython",
    "version": 3
   },
   "file_extension": ".py",
   "mimetype": "text/x-python",
   "name": "python",
   "nbconvert_exporter": "python",
   "pygments_lexer": "ipython3",
   "version": "3.11.5"
  }
 },
 "nbformat": 4,
 "nbformat_minor": 5
}
